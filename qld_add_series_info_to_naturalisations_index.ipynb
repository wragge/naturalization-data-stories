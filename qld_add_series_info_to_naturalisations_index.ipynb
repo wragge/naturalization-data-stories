{
 "cells": [
  {
   "cell_type": "markdown",
   "metadata": {},
   "source": [
    "# Adding series information to the Naturalisations index from Queensland State Archives"
   ]
  },
  {
   "cell_type": "markdown",
   "metadata": {},
   "source": [
    "The [Naturalisations, 1851 to 1904](https://data.qld.gov.au/dataset/naturalisations-1851-to-1904) index created by the Queensland State Archives is available from the Queensland Government data portal. The notes explain:\n",
    "\n",
    "> This index was created from various records detailing the names of those who took oaths of allegiance to be naturalised as created by the Supreme Court across Queensland as well as the Colonial Secretary's Office and the Government Residents Office.\n",
    "\n",
    "It's not clear, however, that this means that the index collates name entries from a number of different series, with a separate row for each name reference. This means that there can be multiple rows referring to the naturalisation of a single individual. This is obviously important to keep in mind if you're trying to analyse aggregate data relating to naturalisations in Queensland.\n",
    "\n",
    "This notebook adds series information to the original index so that you can filter the data by series."
   ]
  },
  {
   "cell_type": "code",
   "execution_count": 3,
   "metadata": {},
   "outputs": [
    {
     "data": {
      "text/plain": [
       "RendererRegistry.enable('json')"
      ]
     },
     "execution_count": 3,
     "metadata": {},
     "output_type": "execute_result"
    }
   ],
   "source": [
    "import pandas as pd\n",
    "import altair as alt\n",
    "import requests\n",
    "from bs4 import BeautifulSoup\n",
    "from tqdm import tqdm_notebook\n",
    "from tqdm.auto import tqdm\n",
    "from IPython.display import display, HTML, FileLink\n",
    "alt.renderers.enable('json')"
   ]
  },
  {
   "cell_type": "markdown",
   "metadata": {},
   "source": [
    "### Load the data"
   ]
  },
  {
   "cell_type": "code",
   "execution_count": 8,
   "metadata": {},
   "outputs": [],
   "source": [
    "# The encoding option is necessary to avoid unicode errors\n",
    "df = pd.read_csv('https://data.qld.gov.au/dataset/91970fa7-d3c3-4171-a89d-410481cb90e9/resource/7b5ddae5-78ef-4d8e-b800-56e6f30d26d5/download/naturalisations-1851-1908.csv', encoding='ISO-8859-1', keep_default_na=False)"
   ]
  },
  {
   "cell_type": "code",
   "execution_count": 9,
   "metadata": {},
   "outputs": [
    {
     "data": {
      "text/html": [
       "<div>\n",
       "<style scoped>\n",
       "    .dataframe tbody tr th:only-of-type {\n",
       "        vertical-align: middle;\n",
       "    }\n",
       "\n",
       "    .dataframe tbody tr th {\n",
       "        vertical-align: top;\n",
       "    }\n",
       "\n",
       "    .dataframe thead th {\n",
       "        text-align: right;\n",
       "    }\n",
       "</style>\n",
       "<table border=\"1\" class=\"dataframe\">\n",
       "  <thead>\n",
       "    <tr style=\"text-align: right;\">\n",
       "      <th></th>\n",
       "      <th>Last name</th>\n",
       "      <th>Given names</th>\n",
       "      <th>Number</th>\n",
       "      <th>Page</th>\n",
       "      <th>Year</th>\n",
       "      <th>Item ID</th>\n",
       "      <th>QSA ref</th>\n",
       "      <th>Microfilm no</th>\n",
       "      <th>Notes</th>\n",
       "      <th>Index name</th>\n",
       "      <th>Description</th>\n",
       "      <th>Source</th>\n",
       "    </tr>\n",
       "  </thead>\n",
       "  <tbody>\n",
       "    <tr>\n",
       "      <th>0</th>\n",
       "      <td>AANENSEN</td>\n",
       "      <td>Gunder</td>\n",
       "      <td>20</td>\n",
       "      <td></td>\n",
       "      <td>1901</td>\n",
       "      <td>1697781</td>\n",
       "      <td>A/49120</td>\n",
       "      <td>Z1999</td>\n",
       "      <td></td>\n",
       "      <td>Naturalisations 1851-1908</td>\n",
       "      <td>Generated from records created by the Supreme ...</td>\n",
       "      <td>http://www.archivessearch.qld.gov.au/Search/It...</td>\n",
       "    </tr>\n",
       "    <tr>\n",
       "      <th>1</th>\n",
       "      <td>AAROE</td>\n",
       "      <td>Knud Lauritzen</td>\n",
       "      <td>7532</td>\n",
       "      <td></td>\n",
       "      <td>1885</td>\n",
       "      <td>882267</td>\n",
       "      <td>SCT/CF16</td>\n",
       "      <td>Z2206</td>\n",
       "      <td></td>\n",
       "      <td>Naturalisations 1851-1908</td>\n",
       "      <td>Generated from records created by the Supreme ...</td>\n",
       "      <td>http://www.archivessearch.qld.gov.au/Search/It...</td>\n",
       "    </tr>\n",
       "    <tr>\n",
       "      <th>2</th>\n",
       "      <td>AAROE</td>\n",
       "      <td>Knud Lauritzen</td>\n",
       "      <td>7532</td>\n",
       "      <td>42</td>\n",
       "      <td>1885</td>\n",
       "      <td>841183</td>\n",
       "      <td>SCT/CF37</td>\n",
       "      <td>Z2286</td>\n",
       "      <td></td>\n",
       "      <td>Naturalisations 1851-1908</td>\n",
       "      <td>Generated from records created by the Supreme ...</td>\n",
       "      <td>http://www.archivessearch.qld.gov.au/Search/It...</td>\n",
       "    </tr>\n",
       "    <tr>\n",
       "      <th>3</th>\n",
       "      <td>AASKOO</td>\n",
       "      <td>Hans Pedersen</td>\n",
       "      <td>4050</td>\n",
       "      <td>A</td>\n",
       "      <td>1877</td>\n",
       "      <td>841182</td>\n",
       "      <td>SCT/CF36</td>\n",
       "      <td>Z2286</td>\n",
       "      <td></td>\n",
       "      <td>Naturalisations 1851-1908</td>\n",
       "      <td>Generated from records created by the Supreme ...</td>\n",
       "      <td>http://www.archivessearch.qld.gov.au/Search/It...</td>\n",
       "    </tr>\n",
       "    <tr>\n",
       "      <th>4</th>\n",
       "      <td>AASKOO</td>\n",
       "      <td>Hans Pedersen</td>\n",
       "      <td>4050</td>\n",
       "      <td>B</td>\n",
       "      <td>1877</td>\n",
       "      <td>841182</td>\n",
       "      <td>SCT/CF36</td>\n",
       "      <td>Z2286</td>\n",
       "      <td></td>\n",
       "      <td>Naturalisations 1851-1908</td>\n",
       "      <td>Generated from records created by the Supreme ...</td>\n",
       "      <td>http://www.archivessearch.qld.gov.au/Search/It...</td>\n",
       "    </tr>\n",
       "  </tbody>\n",
       "</table>\n",
       "</div>"
      ],
      "text/plain": [
       "  Last name     Given names Number Page  Year  Item ID   QSA ref Microfilm no  \\\n",
       "0  AANENSEN          Gunder     20       1901  1697781   A/49120        Z1999   \n",
       "1     AAROE  Knud Lauritzen   7532       1885   882267  SCT/CF16        Z2206   \n",
       "2     AAROE  Knud Lauritzen   7532   42  1885   841183  SCT/CF37        Z2286   \n",
       "3    AASKOO   Hans Pedersen   4050    A  1877   841182  SCT/CF36        Z2286   \n",
       "4    AASKOO   Hans Pedersen   4050    B  1877   841182  SCT/CF36        Z2286   \n",
       "\n",
       "  Notes                 Index name  \\\n",
       "0        Naturalisations 1851-1908   \n",
       "1        Naturalisations 1851-1908   \n",
       "2        Naturalisations 1851-1908   \n",
       "3        Naturalisations 1851-1908   \n",
       "4        Naturalisations 1851-1908   \n",
       "\n",
       "                                         Description  \\\n",
       "0  Generated from records created by the Supreme ...   \n",
       "1  Generated from records created by the Supreme ...   \n",
       "2  Generated from records created by the Supreme ...   \n",
       "3  Generated from records created by the Supreme ...   \n",
       "4  Generated from records created by the Supreme ...   \n",
       "\n",
       "                                              Source  \n",
       "0  http://www.archivessearch.qld.gov.au/Search/It...  \n",
       "1  http://www.archivessearch.qld.gov.au/Search/It...  \n",
       "2  http://www.archivessearch.qld.gov.au/Search/It...  \n",
       "3  http://www.archivessearch.qld.gov.au/Search/It...  \n",
       "4  http://www.archivessearch.qld.gov.au/Search/It...  "
      ]
     },
     "execution_count": 9,
     "metadata": {},
     "output_type": "execute_result"
    }
   ],
   "source": [
    "df.head()"
   ]
  },
  {
   "cell_type": "code",
   "execution_count": 10,
   "metadata": {},
   "outputs": [
    {
     "data": {
      "text/plain": [
       "26769"
      ]
     },
     "execution_count": 10,
     "metadata": {},
     "output_type": "execute_result"
    }
   ],
   "source": [
    "# How many rows?\n",
    "len(df)"
   ]
  },
  {
   "cell_type": "markdown",
   "metadata": {},
   "source": [
    "### Add series information"
   ]
  },
  {
   "cell_type": "markdown",
   "metadata": {},
   "source": [
    "One way of removing duplicates is to filter the results by series. However, while each entry includes an `Item ID`, it doesn't include a series identifier. To get the series information we have to request the item details web page, and scrape the series information from it.\n",
    "\n",
    "Rather than loop through the whole dataset, we'll grab all the unique `ItemID` values first, get the series information for each, then merge this data back into the original dataset."
   ]
  },
  {
   "cell_type": "code",
   "execution_count": null,
   "metadata": {},
   "outputs": [],
   "source": [
    "def get_series(row):\n",
    "    '''\n",
    "    Get the series id and title for the item identifier in the given row.\n",
    "    '''\n",
    "    response = requests.get('http://www.archivessearch.qld.gov.au/Search/ItemDetails.aspx', params={'ItemId': row['item_id']})\n",
    "    soup = BeautifulSoup(response.text)\n",
    "    series_id = soup.find(id='ctl00_cphMain_RecordDetailsView_SeriesFormView_SERIES_IDLabel').string\n",
    "    series_title = soup.find('a', id='ctl00_cphMain_RecordDetailsView_SeriesFormView_TitleHyperLink').string\n",
    "    return pd.Series([series_id, series_title])\n",
    "\n",
    "tqdm.pandas(desc=\"Progress\")\n",
    "# Get the unique item ids\n",
    "item_ids = pd.DataFrame(df['Item ID'].unique())\n",
    "item_ids.columns = ['item_id']\n",
    "# Get series data for each item id\n",
    "item_ids[['series_id', 'series_title']] = item_ids.progress_apply(get_series, axis=1)"
   ]
  },
  {
   "cell_type": "markdown",
   "metadata": {},
   "source": [
    "Now we have a dataframe linking item ids to series information, we can find out something about the series represented in the original dataset."
   ]
  },
  {
   "cell_type": "code",
   "execution_count": 9,
   "metadata": {},
   "outputs": [
    {
     "data": {
      "text/html": [
       "<div>\n",
       "<style scoped>\n",
       "    .dataframe tbody tr th:only-of-type {\n",
       "        vertical-align: middle;\n",
       "    }\n",
       "\n",
       "    .dataframe tbody tr th {\n",
       "        vertical-align: top;\n",
       "    }\n",
       "\n",
       "    .dataframe thead th {\n",
       "        text-align: right;\n",
       "    }\n",
       "</style>\n",
       "<table border=\"1\" class=\"dataframe\">\n",
       "  <thead>\n",
       "    <tr style=\"text-align: right;\">\n",
       "      <th></th>\n",
       "      <th>series_id</th>\n",
       "      <th>series_title</th>\n",
       "    </tr>\n",
       "  </thead>\n",
       "  <tbody>\n",
       "    <tr>\n",
       "      <th>0</th>\n",
       "      <td>9403</td>\n",
       "      <td>Naturalisation Files</td>\n",
       "    </tr>\n",
       "    <tr>\n",
       "      <th>1</th>\n",
       "      <td>5741</td>\n",
       "      <td>Oaths of Allegiance Sworn by Aliens Being Naturalised</td>\n",
       "    </tr>\n",
       "    <tr>\n",
       "      <th>2</th>\n",
       "      <td>5177</td>\n",
       "      <td>Registers of Aliens to Whom Oaths of Allegiance for Naturalisation Were Administered</td>\n",
       "    </tr>\n",
       "    <tr>\n",
       "      <th>5</th>\n",
       "      <td>8400</td>\n",
       "      <td>Special Batches</td>\n",
       "    </tr>\n",
       "    <tr>\n",
       "      <th>6</th>\n",
       "      <td>7224</td>\n",
       "      <td>Oaths of Allegiance</td>\n",
       "    </tr>\n",
       "    <tr>\n",
       "      <th>29</th>\n",
       "      <td>5743</td>\n",
       "      <td>Certificates of Naturalisation and Associated Papers</td>\n",
       "    </tr>\n",
       "    <tr>\n",
       "      <th>43</th>\n",
       "      <td>7164</td>\n",
       "      <td>Register of Fees of Office</td>\n",
       "    </tr>\n",
       "    <tr>\n",
       "      <th>50</th>\n",
       "      <td>12748</td>\n",
       "      <td>Letters Addressed to the Government Resident by the Colonial Secretary, Sydney</td>\n",
       "    </tr>\n",
       "    <tr>\n",
       "      <th>54</th>\n",
       "      <td>5745</td>\n",
       "      <td>Applications for Copies of Records of Naturalisation, and Related Correspondence</td>\n",
       "    </tr>\n",
       "    <tr>\n",
       "      <th>67</th>\n",
       "      <td>5253</td>\n",
       "      <td>Inwards Correspondence</td>\n",
       "    </tr>\n",
       "  </tbody>\n",
       "</table>\n",
       "</div>"
      ],
      "text/plain": [
       "   series_id  \\\n",
       "0   9403       \n",
       "1   5741       \n",
       "2   5177       \n",
       "5   8400       \n",
       "6   7224       \n",
       "29  5743       \n",
       "43  7164       \n",
       "50  12748      \n",
       "54  5745       \n",
       "67  5253       \n",
       "\n",
       "                                                                            series_title  \n",
       "0   Naturalisation Files                                                                  \n",
       "1   Oaths of Allegiance Sworn by Aliens Being Naturalised                                 \n",
       "2   Registers of Aliens to Whom Oaths of Allegiance for Naturalisation Were Administered  \n",
       "5   Special Batches                                                                       \n",
       "6   Oaths of Allegiance                                                                   \n",
       "29  Certificates of Naturalisation and Associated Papers                                  \n",
       "43  Register of Fees of Office                                                            \n",
       "50  Letters Addressed to the Government Resident by the Colonial Secretary, Sydney        \n",
       "54  Applications for Copies of Records of Naturalisation, and Related Correspondence      \n",
       "67  Inwards Correspondence                                                                "
      ]
     },
     "execution_count": 9,
     "metadata": {},
     "output_type": "execute_result"
    }
   ],
   "source": [
    "pd.set_option('display.max_colwidth', -1)\n",
    "# List the indexed series\n",
    "item_ids[['series_id', 'series_title']].drop_duplicates()"
   ]
  },
  {
   "cell_type": "markdown",
   "metadata": {},
   "source": [
    "Merge the series data back into the original dataset."
   ]
  },
  {
   "cell_type": "code",
   "execution_count": 10,
   "metadata": {},
   "outputs": [
    {
     "data": {
      "text/html": [
       "<div>\n",
       "<style scoped>\n",
       "    .dataframe tbody tr th:only-of-type {\n",
       "        vertical-align: middle;\n",
       "    }\n",
       "\n",
       "    .dataframe tbody tr th {\n",
       "        vertical-align: top;\n",
       "    }\n",
       "\n",
       "    .dataframe thead th {\n",
       "        text-align: right;\n",
       "    }\n",
       "</style>\n",
       "<table border=\"1\" class=\"dataframe\">\n",
       "  <thead>\n",
       "    <tr style=\"text-align: right;\">\n",
       "      <th></th>\n",
       "      <th>Last name</th>\n",
       "      <th>Given names</th>\n",
       "      <th>Number</th>\n",
       "      <th>Page</th>\n",
       "      <th>Year</th>\n",
       "      <th>Item ID</th>\n",
       "      <th>QSA ref</th>\n",
       "      <th>Microfilm no</th>\n",
       "      <th>Notes</th>\n",
       "      <th>Index name</th>\n",
       "      <th>Description</th>\n",
       "      <th>Source</th>\n",
       "      <th>item_id</th>\n",
       "      <th>series_id</th>\n",
       "      <th>series_title</th>\n",
       "    </tr>\n",
       "  </thead>\n",
       "  <tbody>\n",
       "    <tr>\n",
       "      <th>0</th>\n",
       "      <td>AANENSEN</td>\n",
       "      <td>Gunder</td>\n",
       "      <td>20</td>\n",
       "      <td></td>\n",
       "      <td>1901</td>\n",
       "      <td>1697781</td>\n",
       "      <td>A/49120</td>\n",
       "      <td>Z1999</td>\n",
       "      <td></td>\n",
       "      <td>Naturalisations 1851-1908</td>\n",
       "      <td>Generated from records created by the Supreme ...</td>\n",
       "      <td>http://www.archivessearch.qld.gov.au/Search/It...</td>\n",
       "      <td>1697781</td>\n",
       "      <td>9403</td>\n",
       "      <td>Naturalisation Files</td>\n",
       "    </tr>\n",
       "    <tr>\n",
       "      <th>1</th>\n",
       "      <td>AAROE</td>\n",
       "      <td>Knud Lauritzen</td>\n",
       "      <td>7532</td>\n",
       "      <td></td>\n",
       "      <td>1885</td>\n",
       "      <td>882267</td>\n",
       "      <td>SCT/CF16</td>\n",
       "      <td>Z2206</td>\n",
       "      <td></td>\n",
       "      <td>Naturalisations 1851-1908</td>\n",
       "      <td>Generated from records created by the Supreme ...</td>\n",
       "      <td>http://www.archivessearch.qld.gov.au/Search/It...</td>\n",
       "      <td>882267</td>\n",
       "      <td>5741</td>\n",
       "      <td>Oaths of Allegiance Sworn by Aliens Being Natu...</td>\n",
       "    </tr>\n",
       "    <tr>\n",
       "      <th>2</th>\n",
       "      <td>AAROE</td>\n",
       "      <td>Knud Lauritzen</td>\n",
       "      <td>7532</td>\n",
       "      <td>42</td>\n",
       "      <td>1885</td>\n",
       "      <td>841183</td>\n",
       "      <td>SCT/CF37</td>\n",
       "      <td>Z2286</td>\n",
       "      <td></td>\n",
       "      <td>Naturalisations 1851-1908</td>\n",
       "      <td>Generated from records created by the Supreme ...</td>\n",
       "      <td>http://www.archivessearch.qld.gov.au/Search/It...</td>\n",
       "      <td>841183</td>\n",
       "      <td>5177</td>\n",
       "      <td>Registers of Aliens to Whom Oaths of Allegianc...</td>\n",
       "    </tr>\n",
       "    <tr>\n",
       "      <th>3</th>\n",
       "      <td>AASKOO</td>\n",
       "      <td>Hans Pedersen</td>\n",
       "      <td>4050</td>\n",
       "      <td>A</td>\n",
       "      <td>1877</td>\n",
       "      <td>841182</td>\n",
       "      <td>SCT/CF36</td>\n",
       "      <td>Z2286</td>\n",
       "      <td></td>\n",
       "      <td>Naturalisations 1851-1908</td>\n",
       "      <td>Generated from records created by the Supreme ...</td>\n",
       "      <td>http://www.archivessearch.qld.gov.au/Search/It...</td>\n",
       "      <td>841182</td>\n",
       "      <td>5177</td>\n",
       "      <td>Registers of Aliens to Whom Oaths of Allegianc...</td>\n",
       "    </tr>\n",
       "    <tr>\n",
       "      <th>4</th>\n",
       "      <td>AASKOO</td>\n",
       "      <td>Hans Pedersen</td>\n",
       "      <td>4050</td>\n",
       "      <td>B</td>\n",
       "      <td>1877</td>\n",
       "      <td>841182</td>\n",
       "      <td>SCT/CF36</td>\n",
       "      <td>Z2286</td>\n",
       "      <td></td>\n",
       "      <td>Naturalisations 1851-1908</td>\n",
       "      <td>Generated from records created by the Supreme ...</td>\n",
       "      <td>http://www.archivessearch.qld.gov.au/Search/It...</td>\n",
       "      <td>841182</td>\n",
       "      <td>5177</td>\n",
       "      <td>Registers of Aliens to Whom Oaths of Allegianc...</td>\n",
       "    </tr>\n",
       "  </tbody>\n",
       "</table>\n",
       "</div>"
      ],
      "text/plain": [
       "  Last name     Given names Number Page  Year  Item ID   QSA ref Microfilm no  \\\n",
       "0  AANENSEN          Gunder     20       1901  1697781   A/49120        Z1999   \n",
       "1     AAROE  Knud Lauritzen   7532       1885   882267  SCT/CF16        Z2206   \n",
       "2     AAROE  Knud Lauritzen   7532   42  1885   841183  SCT/CF37        Z2286   \n",
       "3    AASKOO   Hans Pedersen   4050    A  1877   841182  SCT/CF36        Z2286   \n",
       "4    AASKOO   Hans Pedersen   4050    B  1877   841182  SCT/CF36        Z2286   \n",
       "\n",
       "  Notes                 Index name  \\\n",
       "0        Naturalisations 1851-1908   \n",
       "1        Naturalisations 1851-1908   \n",
       "2        Naturalisations 1851-1908   \n",
       "3        Naturalisations 1851-1908   \n",
       "4        Naturalisations 1851-1908   \n",
       "\n",
       "                                         Description  \\\n",
       "0  Generated from records created by the Supreme ...   \n",
       "1  Generated from records created by the Supreme ...   \n",
       "2  Generated from records created by the Supreme ...   \n",
       "3  Generated from records created by the Supreme ...   \n",
       "4  Generated from records created by the Supreme ...   \n",
       "\n",
       "                                              Source  item_id series_id  \\\n",
       "0  http://www.archivessearch.qld.gov.au/Search/It...  1697781      9403   \n",
       "1  http://www.archivessearch.qld.gov.au/Search/It...   882267      5741   \n",
       "2  http://www.archivessearch.qld.gov.au/Search/It...   841183      5177   \n",
       "3  http://www.archivessearch.qld.gov.au/Search/It...   841182      5177   \n",
       "4  http://www.archivessearch.qld.gov.au/Search/It...   841182      5177   \n",
       "\n",
       "                                        series_title  \n",
       "0                               Naturalisation Files  \n",
       "1  Oaths of Allegiance Sworn by Aliens Being Natu...  \n",
       "2  Registers of Aliens to Whom Oaths of Allegianc...  \n",
       "3  Registers of Aliens to Whom Oaths of Allegianc...  \n",
       "4  Registers of Aliens to Whom Oaths of Allegianc...  "
      ]
     },
     "execution_count": 10,
     "metadata": {},
     "output_type": "execute_result"
    }
   ],
   "source": [
    "pd.set_option('display.max_colwidth', 50)\n",
    "# Merge the series data into the original dataset\n",
    "qld_df = pd.merge(df, item_ids, left_on='Item ID', right_on='item_id', how='left')\n",
    "qld_df.head()"
   ]
  },
  {
   "cell_type": "markdown",
   "metadata": {},
   "source": [
    "### Save as CSV\n",
    "\n",
    "Save the enriched dataset as a CSV file."
   ]
  },
  {
   "cell_type": "code",
   "execution_count": 22,
   "metadata": {},
   "outputs": [
    {
     "data": {
      "text/html": [
       "<a href='qsa_naturalisations_index_with_series.csv' target='_blank'>qsa_naturalisations_index_with_series.csv</a><br>"
      ],
      "text/plain": [
       "/Users/tim/mycode/naturalisation-notebooks/notebooks/qsa_naturalisations_index_with_series.csv"
      ]
     },
     "metadata": {},
     "output_type": "display_data"
    }
   ],
   "source": [
    "qld_df.to_csv('qsa_naturalisations_index_with_series.csv', index=False)\n",
    "display(FileLink('qsa_naturalisations_index_with_series.csv'))"
   ]
  }
 ],
 "metadata": {
  "kernelspec": {
   "display_name": "Python 3",
   "language": "python",
   "name": "python3"
  },
  "language_info": {
   "codemirror_mode": {
    "name": "ipython",
    "version": 3
   },
   "file_extension": ".py",
   "mimetype": "text/x-python",
   "name": "python",
   "nbconvert_exporter": "python",
   "pygments_lexer": "ipython3",
   "version": "3.8.5"
  }
 },
 "nbformat": 4,
 "nbformat_minor": 4
}
