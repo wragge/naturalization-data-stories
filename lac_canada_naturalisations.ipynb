{
 "cells": [
  {
   "cell_type": "markdown",
   "id": "645a0547-2221-4c42-acfa-e201a49aaa0a",
   "metadata": {},
   "source": [
    "# Exploring Canadian naturalization records, 1915 to 1946\n",
    "\n",
    "This notebook explores data harvested from the Library and Archives Canada database of [Naturalization Records, 1915-1946](http://www.bac-lac.gc.ca/eng/discover/immigration/citizenship-naturalization-records/naturalized-records-1915-1951/Pages/introduction.aspx).\n",
    "\n",
    "To create this dataset, we first harvested records where the `country` was listed as 'China'. However, we realised that the wives and children of a naturalised man weren't assigned a country value and so will be missing from the harvested data. We attempted to overcome this by adding in records of what appeared to be family members, but this data might be inaccurate or incomplete.\n",
    "\n",
    "The harvested data was saved as a [CSV file](lac-naturalisations-china-with-families.csv).\n",
    "\n",
    "For full details of the harvesting process, see the [LAC section](https://glam-workbench.net/lac/) of the GLAM Workbench."
   ]
  },
  {
   "cell_type": "code",
   "execution_count": 2,
   "id": "00571c1d-396f-42f0-9d3b-9fa2236398d5",
   "metadata": {},
   "outputs": [],
   "source": [
    "import pandas as pd\n",
    "import altair as alt"
   ]
  },
  {
   "cell_type": "code",
   "execution_count": 7,
   "id": "a915c3db-d0eb-4b14-b89e-a41e54f1857e",
   "metadata": {},
   "outputs": [
    {
     "data": {
      "text/html": [
       "<div>\n",
       "<style scoped>\n",
       "    .dataframe tbody tr th:only-of-type {\n",
       "        vertical-align: middle;\n",
       "    }\n",
       "\n",
       "    .dataframe tbody tr th {\n",
       "        vertical-align: top;\n",
       "    }\n",
       "\n",
       "    .dataframe thead th {\n",
       "        text-align: right;\n",
       "    }\n",
       "</style>\n",
       "<table border=\"1\" class=\"dataframe\">\n",
       "  <thead>\n",
       "    <tr style=\"text-align: right;\">\n",
       "      <th></th>\n",
       "      <th>item_id</th>\n",
       "      <th>surname</th>\n",
       "      <th>given_names</th>\n",
       "      <th>country</th>\n",
       "      <th>relation</th>\n",
       "      <th>year</th>\n",
       "      <th>reference</th>\n",
       "      <th>page</th>\n",
       "      <th>pdf_id</th>\n",
       "      <th>pdf_url</th>\n",
       "    </tr>\n",
       "  </thead>\n",
       "  <tbody>\n",
       "    <tr>\n",
       "      <th>0</th>\n",
       "      <td>2711</td>\n",
       "      <td>Fern</td>\n",
       "      <td>Charlie</td>\n",
       "      <td>China</td>\n",
       "      <td>NaN</td>\n",
       "      <td>1922-1923</td>\n",
       "      <td>Canadian Gazette 1922-1923</td>\n",
       "      <td>364</td>\n",
       "      <td>P22-23_364</td>\n",
       "      <td>http://central.bac-lac.gc.ca/.item/?id=P22-23_...</td>\n",
       "    </tr>\n",
       "    <tr>\n",
       "      <th>1</th>\n",
       "      <td>3997</td>\n",
       "      <td>Hing</td>\n",
       "      <td>Mah Qong</td>\n",
       "      <td>China</td>\n",
       "      <td>NaN</td>\n",
       "      <td>1922-1923</td>\n",
       "      <td>Canadian Gazette 1922-1923</td>\n",
       "      <td>389</td>\n",
       "      <td>P22-23_389</td>\n",
       "      <td>http://central.bac-lac.gc.ca/.item/?id=P22-23_...</td>\n",
       "    </tr>\n",
       "    <tr>\n",
       "      <th>2</th>\n",
       "      <td>4910</td>\n",
       "      <td>Ko</td>\n",
       "      <td>Jim Lee</td>\n",
       "      <td>China</td>\n",
       "      <td>NaN</td>\n",
       "      <td>1922-1923</td>\n",
       "      <td>Canadian Gazette 1922-1923</td>\n",
       "      <td>406</td>\n",
       "      <td>P22-23_406</td>\n",
       "      <td>http://central.bac-lac.gc.ca/.item/?id=P22-23_...</td>\n",
       "    </tr>\n",
       "    <tr>\n",
       "      <th>3</th>\n",
       "      <td>5426</td>\n",
       "      <td>Lem</td>\n",
       "      <td>Frank Ho</td>\n",
       "      <td>China</td>\n",
       "      <td>NaN</td>\n",
       "      <td>1922-1923</td>\n",
       "      <td>Canadian Gazette 1922-1923</td>\n",
       "      <td>416</td>\n",
       "      <td>P22-23_416</td>\n",
       "      <td>http://central.bac-lac.gc.ca/.item/?id=P22-23_...</td>\n",
       "    </tr>\n",
       "    <tr>\n",
       "      <th>4</th>\n",
       "      <td>5560</td>\n",
       "      <td>Ling</td>\n",
       "      <td>Chin Jeng</td>\n",
       "      <td>China</td>\n",
       "      <td>NaN</td>\n",
       "      <td>1922-1923</td>\n",
       "      <td>Canadian Gazette 1922-1923</td>\n",
       "      <td>419</td>\n",
       "      <td>P22-23_419</td>\n",
       "      <td>http://central.bac-lac.gc.ca/.item/?id=P22-23_...</td>\n",
       "    </tr>\n",
       "  </tbody>\n",
       "</table>\n",
       "</div>"
      ],
      "text/plain": [
       "   item_id surname given_names country relation       year  \\\n",
       "0     2711    Fern     Charlie   China      NaN  1922-1923   \n",
       "1     3997    Hing    Mah Qong   China      NaN  1922-1923   \n",
       "2     4910      Ko     Jim Lee   China      NaN  1922-1923   \n",
       "3     5426     Lem    Frank Ho   China      NaN  1922-1923   \n",
       "4     5560    Ling   Chin Jeng   China      NaN  1922-1923   \n",
       "\n",
       "                    reference  page      pdf_id  \\\n",
       "0  Canadian Gazette 1922-1923   364  P22-23_364   \n",
       "1  Canadian Gazette 1922-1923   389  P22-23_389   \n",
       "2  Canadian Gazette 1922-1923   406  P22-23_406   \n",
       "3  Canadian Gazette 1922-1923   416  P22-23_416   \n",
       "4  Canadian Gazette 1922-1923   419  P22-23_419   \n",
       "\n",
       "                                             pdf_url  \n",
       "0  http://central.bac-lac.gc.ca/.item/?id=P22-23_...  \n",
       "1  http://central.bac-lac.gc.ca/.item/?id=P22-23_...  \n",
       "2  http://central.bac-lac.gc.ca/.item/?id=P22-23_...  \n",
       "3  http://central.bac-lac.gc.ca/.item/?id=P22-23_...  \n",
       "4  http://central.bac-lac.gc.ca/.item/?id=P22-23_...  "
      ]
     },
     "execution_count": 7,
     "metadata": {},
     "output_type": "execute_result"
    }
   ],
   "source": [
    "df = pd.read_csv('lac-naturalisations-china-with-families.csv')\n",
    "df.head()"
   ]
  },
  {
   "cell_type": "markdown",
   "id": "b22d08e7-6450-40cd-b651-10be8f6b358a",
   "metadata": {},
   "source": [
    "How many records are there?"
   ]
  },
  {
   "cell_type": "code",
   "execution_count": 6,
   "id": "916a2df7-61ac-4ba5-bfdf-47ac1807df5c",
   "metadata": {},
   "outputs": [
    {
     "data": {
      "text/plain": [
       "626"
      ]
     },
     "execution_count": 6,
     "metadata": {},
     "output_type": "execute_result"
    }
   ],
   "source": [
    "df.shape[0]"
   ]
  },
  {
   "cell_type": "markdown",
   "id": "51c5d397-50df-4af1-a410-13c5a7cc85e3",
   "metadata": {},
   "source": [
    "How many records are relations (ie wives and children)?"
   ]
  },
  {
   "cell_type": "code",
   "execution_count": 5,
   "id": "c89d9fcd-74fa-443e-a45b-71a8f93e532f",
   "metadata": {},
   "outputs": [
    {
     "data": {
      "text/plain": [
       "Wife           108\n",
       "Minor child     35\n",
       "Name: relation, dtype: int64"
      ]
     },
     "execution_count": 5,
     "metadata": {},
     "output_type": "execute_result"
    }
   ],
   "source": [
    "df['relation'].value_counts()"
   ]
  },
  {
   "cell_type": "markdown",
   "id": "c1b0ff43-87f9-45cc-89d6-eec5bd25f560",
   "metadata": {},
   "source": [
    "Some years are recorded as a range – let's put the first year mentioned into a separate field for aggregation."
   ]
  },
  {
   "cell_type": "code",
   "execution_count": 10,
   "id": "ace94817-5580-424c-94e2-b7dbf5ea9189",
   "metadata": {},
   "outputs": [],
   "source": [
    "df['year_int'] = df['year'].str.slice(0,4)"
   ]
  },
  {
   "cell_type": "markdown",
   "id": "4cea8f51-7946-4792-a760-1a03562bed27",
   "metadata": {},
   "source": [
    "Let's look at the number of records per year."
   ]
  },
  {
   "cell_type": "code",
   "execution_count": 12,
   "id": "a4dff76f-8e06-484c-a2ae-cc54336746fb",
   "metadata": {},
   "outputs": [
    {
     "data": {
      "text/plain": [
       "1925    99\n",
       "1924    74\n",
       "1927    55\n",
       "1914    40\n",
       "1926    39\n",
       "1928    39\n",
       "1930    30\n",
       "1921    29\n",
       "1931    29\n",
       "1946    28\n",
       "1929    24\n",
       "1920    24\n",
       "1923    23\n",
       "1944    19\n",
       "1922    15\n",
       "1936     9\n",
       "1938     8\n",
       "1935     8\n",
       "1945     8\n",
       "1939     6\n",
       "1942     6\n",
       "1941     5\n",
       "1937     3\n",
       "1932     2\n",
       "1940     1\n",
       "1933     1\n",
       "1943     1\n",
       "1934     1\n",
       "Name: year_int, dtype: int64"
      ]
     },
     "execution_count": 12,
     "metadata": {},
     "output_type": "execute_result"
    }
   ],
   "source": [
    "df['year_int'].value_counts()"
   ]
  },
  {
   "cell_type": "markdown",
   "id": "c9b1844c-87f5-452e-a447-ff5fe0826726",
   "metadata": {},
   "source": [
    "Let's include the `relation` field as well, so we can highlight women and children."
   ]
  },
  {
   "cell_type": "code",
   "execution_count": 17,
   "id": "0fca71c3-dfe2-414b-a5b8-cdacaa467c83",
   "metadata": {},
   "outputs": [],
   "source": [
    "df['relation'].fillna('Not recorded', inplace=True)\n",
    "year_counts = df.value_counts(['year_int', 'relation']).to_frame().reset_index()\n",
    "year_counts.columns = ['year', 'relation', 'count']"
   ]
  },
  {
   "cell_type": "code",
   "execution_count": 23,
   "id": "cbb97000-e55d-40a5-95d3-d6414d207ad3",
   "metadata": {},
   "outputs": [
    {
     "data": {
      "text/html": [
       "\n",
       "<div id=\"altair-viz-c0839ea09514485987e90d3fddc4717d\"></div>\n",
       "<script type=\"text/javascript\">\n",
       "  (function(spec, embedOpt){\n",
       "    let outputDiv = document.currentScript.previousElementSibling;\n",
       "    if (outputDiv.id !== \"altair-viz-c0839ea09514485987e90d3fddc4717d\") {\n",
       "      outputDiv = document.getElementById(\"altair-viz-c0839ea09514485987e90d3fddc4717d\");\n",
       "    }\n",
       "    const paths = {\n",
       "      \"vega\": \"https://cdn.jsdelivr.net/npm//vega@5?noext\",\n",
       "      \"vega-lib\": \"https://cdn.jsdelivr.net/npm//vega-lib?noext\",\n",
       "      \"vega-lite\": \"https://cdn.jsdelivr.net/npm//vega-lite@4.8.1?noext\",\n",
       "      \"vega-embed\": \"https://cdn.jsdelivr.net/npm//vega-embed@6?noext\",\n",
       "    };\n",
       "\n",
       "    function loadScript(lib) {\n",
       "      return new Promise(function(resolve, reject) {\n",
       "        var s = document.createElement('script');\n",
       "        s.src = paths[lib];\n",
       "        s.async = true;\n",
       "        s.onload = () => resolve(paths[lib]);\n",
       "        s.onerror = () => reject(`Error loading script: ${paths[lib]}`);\n",
       "        document.getElementsByTagName(\"head\")[0].appendChild(s);\n",
       "      });\n",
       "    }\n",
       "\n",
       "    function showError(err) {\n",
       "      outputDiv.innerHTML = `<div class=\"error\" style=\"color:red;\">${err}</div>`;\n",
       "      throw err;\n",
       "    }\n",
       "\n",
       "    function displayChart(vegaEmbed) {\n",
       "      vegaEmbed(outputDiv, spec, embedOpt)\n",
       "        .catch(err => showError(`Javascript Error: ${err.message}<br>This usually means there's a typo in your chart specification. See the javascript console for the full traceback.`));\n",
       "    }\n",
       "\n",
       "    if(typeof define === \"function\" && define.amd) {\n",
       "      requirejs.config({paths});\n",
       "      require([\"vega-embed\"], displayChart, err => showError(`Error loading script: ${err.message}`));\n",
       "    } else if (typeof vegaEmbed === \"function\") {\n",
       "      displayChart(vegaEmbed);\n",
       "    } else {\n",
       "      loadScript(\"vega\")\n",
       "        .then(() => loadScript(\"vega-lite\"))\n",
       "        .then(() => loadScript(\"vega-embed\"))\n",
       "        .catch(showError)\n",
       "        .then(() => displayChart(vegaEmbed));\n",
       "    }\n",
       "  })({\"config\": {\"view\": {\"continuousWidth\": 400, \"continuousHeight\": 300}}, \"data\": {\"name\": \"data-898387e9578e4fd14d168fec0d328f02\"}, \"mark\": {\"type\": \"bar\", \"size\": 15}, \"encoding\": {\"color\": {\"type\": \"nominal\", \"field\": \"relation\"}, \"tooltip\": [{\"type\": \"nominal\", \"field\": \"year\"}, {\"type\": \"nominal\", \"field\": \"relation\"}, {\"type\": \"quantitative\", \"field\": \"count\"}], \"x\": {\"type\": \"quantitative\", \"axis\": {\"format\": \"c\"}, \"field\": \"year\"}, \"y\": {\"type\": \"quantitative\", \"field\": \"count\", \"stack\": true}}, \"width\": 700, \"$schema\": \"https://vega.github.io/schema/vega-lite/v4.8.1.json\", \"datasets\": {\"data-898387e9578e4fd14d168fec0d328f02\": [{\"year\": \"1924\", \"relation\": \"Not recorded\", \"count\": 62}, {\"year\": \"1925\", \"relation\": \"Not recorded\", \"count\": 54}, {\"year\": \"1914\", \"relation\": \"Not recorded\", \"count\": 40}, {\"year\": \"1927\", \"relation\": \"Not recorded\", \"count\": 35}, {\"year\": \"1925\", \"relation\": \"Wife\", \"count\": 35}, {\"year\": \"1928\", \"relation\": \"Not recorded\", \"count\": 33}, {\"year\": \"1931\", \"relation\": \"Not recorded\", \"count\": 27}, {\"year\": \"1930\", \"relation\": \"Not recorded\", \"count\": 26}, {\"year\": \"1921\", \"relation\": \"Not recorded\", \"count\": 25}, {\"year\": \"1926\", \"relation\": \"Not recorded\", \"count\": 25}, {\"year\": \"1946\", \"relation\": \"Not recorded\", \"count\": 22}, {\"year\": \"1929\", \"relation\": \"Not recorded\", \"count\": 21}, {\"year\": \"1920\", \"relation\": \"Not recorded\", \"count\": 21}, {\"year\": \"1923\", \"relation\": \"Not recorded\", \"count\": 20}, {\"year\": \"1927\", \"relation\": \"Wife\", \"count\": 20}, {\"year\": \"1926\", \"relation\": \"Wife\", \"count\": 14}, {\"year\": \"1944\", \"relation\": \"Not recorded\", \"count\": 14}, {\"year\": \"1922\", \"relation\": \"Not recorded\", \"count\": 13}, {\"year\": \"1924\", \"relation\": \"Minor child\", \"count\": 12}, {\"year\": \"1925\", \"relation\": \"Minor child\", \"count\": 10}, {\"year\": \"1936\", \"relation\": \"Not recorded\", \"count\": 7}, {\"year\": \"1946\", \"relation\": \"Wife\", \"count\": 6}, {\"year\": \"1945\", \"relation\": \"Not recorded\", \"count\": 6}, {\"year\": \"1944\", \"relation\": \"Wife\", \"count\": 5}, {\"year\": \"1938\", \"relation\": \"Not recorded\", \"count\": 5}, {\"year\": \"1942\", \"relation\": \"Not recorded\", \"count\": 5}, {\"year\": \"1941\", \"relation\": \"Not recorded\", \"count\": 5}, {\"year\": \"1935\", \"relation\": \"Not recorded\", \"count\": 5}, {\"year\": \"1928\", \"relation\": \"Wife\", \"count\": 5}, {\"year\": \"1930\", \"relation\": \"Wife\", \"count\": 4}, {\"year\": \"1939\", \"relation\": \"Not recorded\", \"count\": 4}, {\"year\": \"1921\", \"relation\": \"Minor child\", \"count\": 4}, {\"year\": \"1938\", \"relation\": \"Wife\", \"count\": 3}, {\"year\": \"1923\", \"relation\": \"Minor child\", \"count\": 3}, {\"year\": \"1935\", \"relation\": \"Wife\", \"count\": 3}, {\"year\": \"1929\", \"relation\": \"Wife\", \"count\": 3}, {\"year\": \"1920\", \"relation\": \"Minor child\", \"count\": 3}, {\"year\": \"1937\", \"relation\": \"Not recorded\", \"count\": 2}, {\"year\": \"1932\", \"relation\": \"Not recorded\", \"count\": 2}, {\"year\": \"1922\", \"relation\": \"Minor child\", \"count\": 2}, {\"year\": \"1945\", \"relation\": \"Wife\", \"count\": 2}, {\"year\": \"1931\", \"relation\": \"Wife\", \"count\": 2}, {\"year\": \"1939\", \"relation\": \"Wife\", \"count\": 2}, {\"year\": \"1936\", \"relation\": \"Wife\", \"count\": 2}, {\"year\": \"1937\", \"relation\": \"Wife\", \"count\": 1}, {\"year\": \"1942\", \"relation\": \"Wife\", \"count\": 1}, {\"year\": \"1943\", \"relation\": \"Not recorded\", \"count\": 1}, {\"year\": \"1940\", \"relation\": \"Not recorded\", \"count\": 1}, {\"year\": \"1928\", \"relation\": \"Minor child\", \"count\": 1}, {\"year\": \"1933\", \"relation\": \"Not recorded\", \"count\": 1}, {\"year\": \"1934\", \"relation\": \"Not recorded\", \"count\": 1}]}}, {\"mode\": \"vega-lite\"});\n",
       "</script>"
      ],
      "text/plain": [
       "alt.Chart(...)"
      ]
     },
     "execution_count": 23,
     "metadata": {},
     "output_type": "execute_result"
    }
   ],
   "source": [
    "alt.Chart(year_counts).mark_bar(size=15).encode(\n",
    "    x=alt.X('year:Q', axis=alt.Axis(format='c')),\n",
    "    y=alt.Y('count:Q', stack=True),\n",
    "    color='relation:N',\n",
    "    tooltip=['year', 'relation', 'count']\n",
    ").properties(width=700)"
   ]
  }
 ],
 "metadata": {
  "kernelspec": {
   "display_name": "Python 3",
   "language": "python",
   "name": "python3"
  },
  "language_info": {
   "codemirror_mode": {
    "name": "ipython",
    "version": 3
   },
   "file_extension": ".py",
   "mimetype": "text/x-python",
   "name": "python",
   "nbconvert_exporter": "python",
   "pygments_lexer": "ipython3",
   "version": "3.8.5"
  }
 },
 "nbformat": 4,
 "nbformat_minor": 5
}
