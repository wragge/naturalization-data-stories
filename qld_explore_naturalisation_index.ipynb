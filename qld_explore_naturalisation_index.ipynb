{
 "cells": [
  {
   "cell_type": "markdown",
   "id": "3732f841-ecc8-4e42-bc78-6f2aa9e18be2",
   "metadata": {},
   "source": [
    "# Exploring the Queensland naturalisation index from Queensland State Archives\n",
    "\n",
    "In [this notebook](qld_add_series_info_to_naturalisations_index.ipynb) we loaded the Naturalisation Index from the Queensland government data portal and added a series identifier to each record.\n",
    "\n",
    "Now that we've associated each entry in the original dataset with a series, we can break the data down by series to better understand the content of the index."
   ]
  },
  {
   "cell_type": "code",
   "execution_count": 2,
   "id": "91d1035f-4c7c-4389-9b03-c7dc08246027",
   "metadata": {},
   "outputs": [],
   "source": [
    "import pandas as pd\n",
    "import altair as alt"
   ]
  },
  {
   "cell_type": "markdown",
   "id": "268b773f-4697-49ef-a33b-d2bb0fac461b",
   "metadata": {},
   "source": [
    "Load the dataset we created with series identifiers."
   ]
  },
  {
   "cell_type": "code",
   "execution_count": 3,
   "id": "75d65297-e418-4788-b3ee-e5616b2d6669",
   "metadata": {},
   "outputs": [],
   "source": [
    "df = pd.read_csv('qsa_naturalisations_index_with_series.csv')"
   ]
  },
  {
   "cell_type": "markdown",
   "id": "a0549a3d-ffeb-4dbe-bd03-3626030d6b58",
   "metadata": {},
   "source": [
    "Show the number of entries per series."
   ]
  },
  {
   "cell_type": "code",
   "execution_count": 46,
   "id": "7225c759-2a20-4f05-9d00-fac430078809",
   "metadata": {},
   "outputs": [
    {
     "data": {
      "text/html": [
       "<div>\n",
       "<style scoped>\n",
       "    .dataframe tbody tr th:only-of-type {\n",
       "        vertical-align: middle;\n",
       "    }\n",
       "\n",
       "    .dataframe tbody tr th {\n",
       "        vertical-align: top;\n",
       "    }\n",
       "\n",
       "    .dataframe thead th {\n",
       "        text-align: right;\n",
       "    }\n",
       "</style>\n",
       "<table border=\"1\" class=\"dataframe\">\n",
       "  <thead>\n",
       "    <tr style=\"text-align: right;\">\n",
       "      <th></th>\n",
       "      <th>series_id</th>\n",
       "      <th>series_title</th>\n",
       "      <th>count</th>\n",
       "    </tr>\n",
       "  </thead>\n",
       "  <tbody>\n",
       "    <tr>\n",
       "      <th>0</th>\n",
       "      <td>5177</td>\n",
       "      <td>Registers of Aliens to Whom Oaths of Allegiance for Naturalisation Were Administered</td>\n",
       "      <td>14325</td>\n",
       "    </tr>\n",
       "    <tr>\n",
       "      <th>1</th>\n",
       "      <td>5741</td>\n",
       "      <td>Oaths of Allegiance Sworn by Aliens Being Naturalised</td>\n",
       "      <td>10344</td>\n",
       "    </tr>\n",
       "    <tr>\n",
       "      <th>2</th>\n",
       "      <td>7224</td>\n",
       "      <td>Oaths of Allegiance</td>\n",
       "      <td>734</td>\n",
       "    </tr>\n",
       "    <tr>\n",
       "      <th>3</th>\n",
       "      <td>8400</td>\n",
       "      <td>Special Batches</td>\n",
       "      <td>528</td>\n",
       "    </tr>\n",
       "    <tr>\n",
       "      <th>4</th>\n",
       "      <td>9403</td>\n",
       "      <td>Naturalisation Files</td>\n",
       "      <td>258</td>\n",
       "    </tr>\n",
       "    <tr>\n",
       "      <th>5</th>\n",
       "      <td>5743</td>\n",
       "      <td>Certificates of Naturalisation and Associated Papers</td>\n",
       "      <td>230</td>\n",
       "    </tr>\n",
       "    <tr>\n",
       "      <th>6</th>\n",
       "      <td>5745</td>\n",
       "      <td>Applications for Copies of Records of Naturalisation, and Related Correspondence</td>\n",
       "      <td>131</td>\n",
       "    </tr>\n",
       "    <tr>\n",
       "      <th>7</th>\n",
       "      <td>7164</td>\n",
       "      <td>Register of Fees of Office</td>\n",
       "      <td>122</td>\n",
       "    </tr>\n",
       "    <tr>\n",
       "      <th>8</th>\n",
       "      <td>5253</td>\n",
       "      <td>Inwards Correspondence</td>\n",
       "      <td>82</td>\n",
       "    </tr>\n",
       "    <tr>\n",
       "      <th>9</th>\n",
       "      <td>12748</td>\n",
       "      <td>Letters Addressed to the Government Resident by the Colonial Secretary, Sydney</td>\n",
       "      <td>15</td>\n",
       "    </tr>\n",
       "  </tbody>\n",
       "</table>\n",
       "</div>"
      ],
      "text/plain": [
       "   series_id  \\\n",
       "0       5177   \n",
       "1       5741   \n",
       "2       7224   \n",
       "3       8400   \n",
       "4       9403   \n",
       "5       5743   \n",
       "6       5745   \n",
       "7       7164   \n",
       "8       5253   \n",
       "9      12748   \n",
       "\n",
       "                                                                           series_title  \\\n",
       "0  Registers of Aliens to Whom Oaths of Allegiance for Naturalisation Were Administered   \n",
       "1                                 Oaths of Allegiance Sworn by Aliens Being Naturalised   \n",
       "2                                                                   Oaths of Allegiance   \n",
       "3                                                                       Special Batches   \n",
       "4                                                                  Naturalisation Files   \n",
       "5                                  Certificates of Naturalisation and Associated Papers   \n",
       "6      Applications for Copies of Records of Naturalisation, and Related Correspondence   \n",
       "7                                                            Register of Fees of Office   \n",
       "8                                                                Inwards Correspondence   \n",
       "9        Letters Addressed to the Government Resident by the Colonial Secretary, Sydney   \n",
       "\n",
       "   count  \n",
       "0  14325  \n",
       "1  10344  \n",
       "2    734  \n",
       "3    528  \n",
       "4    258  \n",
       "5    230  \n",
       "6    131  \n",
       "7    122  \n",
       "8     82  \n",
       "9     15  "
      ]
     },
     "execution_count": 46,
     "metadata": {},
     "output_type": "execute_result"
    }
   ],
   "source": [
    "pd.set_option('display.max_colwidth', None)\n",
    "series_counts = df.value_counts(['series_id', 'series_title']).to_frame().reset_index()\n",
    "series_counts.columns = ['series_id', 'series_title', 'count']\n",
    "series_counts"
   ]
  },
  {
   "cell_type": "code",
   "execution_count": 44,
   "id": "961bcfd5-76bf-4ecc-adfd-eca2bd3099dd",
   "metadata": {},
   "outputs": [
    {
     "data": {
      "text/html": [
       "\n",
       "<div id=\"altair-viz-d82c41289b154b6586be27e0cbadd322\"></div>\n",
       "<script type=\"text/javascript\">\n",
       "  (function(spec, embedOpt){\n",
       "    let outputDiv = document.currentScript.previousElementSibling;\n",
       "    if (outputDiv.id !== \"altair-viz-d82c41289b154b6586be27e0cbadd322\") {\n",
       "      outputDiv = document.getElementById(\"altair-viz-d82c41289b154b6586be27e0cbadd322\");\n",
       "    }\n",
       "    const paths = {\n",
       "      \"vega\": \"https://cdn.jsdelivr.net/npm//vega@5?noext\",\n",
       "      \"vega-lib\": \"https://cdn.jsdelivr.net/npm//vega-lib?noext\",\n",
       "      \"vega-lite\": \"https://cdn.jsdelivr.net/npm//vega-lite@4.8.1?noext\",\n",
       "      \"vega-embed\": \"https://cdn.jsdelivr.net/npm//vega-embed@6?noext\",\n",
       "    };\n",
       "\n",
       "    function loadScript(lib) {\n",
       "      return new Promise(function(resolve, reject) {\n",
       "        var s = document.createElement('script');\n",
       "        s.src = paths[lib];\n",
       "        s.async = true;\n",
       "        s.onload = () => resolve(paths[lib]);\n",
       "        s.onerror = () => reject(`Error loading script: ${paths[lib]}`);\n",
       "        document.getElementsByTagName(\"head\")[0].appendChild(s);\n",
       "      });\n",
       "    }\n",
       "\n",
       "    function showError(err) {\n",
       "      outputDiv.innerHTML = `<div class=\"error\" style=\"color:red;\">${err}</div>`;\n",
       "      throw err;\n",
       "    }\n",
       "\n",
       "    function displayChart(vegaEmbed) {\n",
       "      vegaEmbed(outputDiv, spec, embedOpt)\n",
       "        .catch(err => showError(`Javascript Error: ${err.message}<br>This usually means there's a typo in your chart specification. See the javascript console for the full traceback.`));\n",
       "    }\n",
       "\n",
       "    if(typeof define === \"function\" && define.amd) {\n",
       "      requirejs.config({paths});\n",
       "      require([\"vega-embed\"], displayChart, err => showError(`Error loading script: ${err.message}`));\n",
       "    } else if (typeof vegaEmbed === \"function\") {\n",
       "      displayChart(vegaEmbed);\n",
       "    } else {\n",
       "      loadScript(\"vega\")\n",
       "        .then(() => loadScript(\"vega-lite\"))\n",
       "        .then(() => loadScript(\"vega-embed\"))\n",
       "        .catch(showError)\n",
       "        .then(() => displayChart(vegaEmbed));\n",
       "    }\n",
       "  })({\"config\": {\"view\": {\"continuousWidth\": 400, \"continuousHeight\": 300}}, \"data\": {\"name\": \"data-c7e3900d9e5685f41593bc57789ef937\"}, \"mark\": \"bar\", \"encoding\": {\"color\": {\"type\": \"nominal\", \"field\": \"series_id\"}, \"tooltip\": [{\"type\": \"quantitative\", \"field\": \"series_id\"}, {\"type\": \"nominal\", \"field\": \"series_title\"}, {\"type\": \"quantitative\", \"field\": \"count\"}], \"x\": {\"type\": \"nominal\", \"field\": \"series_id\"}, \"y\": {\"type\": \"quantitative\", \"field\": \"count\"}}, \"$schema\": \"https://vega.github.io/schema/vega-lite/v4.8.1.json\", \"datasets\": {\"data-c7e3900d9e5685f41593bc57789ef937\": [{\"series_id\": 5177, \"series_title\": \"Registers of Aliens to Whom Oaths of Allegiance for Naturalisation Were Administered\", \"count\": 14325}, {\"series_id\": 5741, \"series_title\": \"Oaths of Allegiance Sworn by Aliens Being Naturalised\", \"count\": 10344}, {\"series_id\": 7224, \"series_title\": \"Oaths of Allegiance\", \"count\": 734}, {\"series_id\": 8400, \"series_title\": \"Special Batches\", \"count\": 528}, {\"series_id\": 9403, \"series_title\": \"Naturalisation Files\", \"count\": 258}, {\"series_id\": 5743, \"series_title\": \"Certificates of Naturalisation and Associated Papers\", \"count\": 230}, {\"series_id\": 5745, \"series_title\": \"Applications for Copies of Records of Naturalisation, and Related Correspondence\", \"count\": 131}, {\"series_id\": 7164, \"series_title\": \"Register of Fees of Office\", \"count\": 122}, {\"series_id\": 5253, \"series_title\": \"Inwards Correspondence\", \"count\": 82}, {\"series_id\": 12748, \"series_title\": \"Letters Addressed to the Government Resident by the Colonial Secretary, Sydney\", \"count\": 15}]}}, {\"mode\": \"vega-lite\"});\n",
       "</script>"
      ],
      "text/plain": [
       "alt.Chart(...)"
      ]
     },
     "execution_count": 44,
     "metadata": {},
     "output_type": "execute_result"
    }
   ],
   "source": [
    "alt.Chart(series_counts).mark_bar().encode(\n",
    "    x='series_id:N',\n",
    "    y='count:Q',\n",
    "    color='series_id:N',\n",
    "    tooltip=['series_id', 'series_title', 'count']\n",
    ")"
   ]
  },
  {
   "cell_type": "markdown",
   "id": "55c8782a-554d-4b3e-adec-990f8e1ff9df",
   "metadata": {},
   "source": [
    "## Visualise records over time"
   ]
  },
  {
   "cell_type": "code",
   "execution_count": 12,
   "id": "ba312ebe-d6a1-45de-9e15-972bc609d1ac",
   "metadata": {},
   "outputs": [
    {
     "data": {
      "text/html": [
       "<div>\n",
       "<style scoped>\n",
       "    .dataframe tbody tr th:only-of-type {\n",
       "        vertical-align: middle;\n",
       "    }\n",
       "\n",
       "    .dataframe tbody tr th {\n",
       "        vertical-align: top;\n",
       "    }\n",
       "\n",
       "    .dataframe thead th {\n",
       "        text-align: right;\n",
       "    }\n",
       "</style>\n",
       "<table border=\"1\" class=\"dataframe\">\n",
       "  <thead>\n",
       "    <tr style=\"text-align: right;\">\n",
       "      <th></th>\n",
       "      <th>year</th>\n",
       "      <th>series</th>\n",
       "      <th>count</th>\n",
       "    </tr>\n",
       "  </thead>\n",
       "  <tbody>\n",
       "    <tr>\n",
       "      <th>0</th>\n",
       "      <td>1886</td>\n",
       "      <td>5741</td>\n",
       "      <td>648</td>\n",
       "    </tr>\n",
       "    <tr>\n",
       "      <th>1</th>\n",
       "      <td>1886</td>\n",
       "      <td>5177</td>\n",
       "      <td>635</td>\n",
       "    </tr>\n",
       "    <tr>\n",
       "      <th>2</th>\n",
       "      <td>1883</td>\n",
       "      <td>5177</td>\n",
       "      <td>572</td>\n",
       "    </tr>\n",
       "    <tr>\n",
       "      <th>3</th>\n",
       "      <td>1888</td>\n",
       "      <td>5741</td>\n",
       "      <td>569</td>\n",
       "    </tr>\n",
       "    <tr>\n",
       "      <th>4</th>\n",
       "      <td>1888</td>\n",
       "      <td>5177</td>\n",
       "      <td>564</td>\n",
       "    </tr>\n",
       "    <tr>\n",
       "      <th>...</th>\n",
       "      <td>...</td>\n",
       "      <td>...</td>\n",
       "      <td>...</td>\n",
       "    </tr>\n",
       "    <tr>\n",
       "      <th>220</th>\n",
       "      <td>1874</td>\n",
       "      <td>5743</td>\n",
       "      <td>1</td>\n",
       "    </tr>\n",
       "    <tr>\n",
       "      <th>221</th>\n",
       "      <td>1873</td>\n",
       "      <td>5745</td>\n",
       "      <td>1</td>\n",
       "    </tr>\n",
       "    <tr>\n",
       "      <th>222</th>\n",
       "      <td>1873</td>\n",
       "      <td>5743</td>\n",
       "      <td>1</td>\n",
       "    </tr>\n",
       "    <tr>\n",
       "      <th>223</th>\n",
       "      <td>1872</td>\n",
       "      <td>5745</td>\n",
       "      <td>1</td>\n",
       "    </tr>\n",
       "    <tr>\n",
       "      <th>224</th>\n",
       "      <td>18889</td>\n",
       "      <td>5741</td>\n",
       "      <td>1</td>\n",
       "    </tr>\n",
       "  </tbody>\n",
       "</table>\n",
       "<p>225 rows × 3 columns</p>\n",
       "</div>"
      ],
      "text/plain": [
       "      year  series  count\n",
       "0     1886    5741    648\n",
       "1     1886    5177    635\n",
       "2     1883    5177    572\n",
       "3     1888    5741    569\n",
       "4     1888    5177    564\n",
       "..     ...     ...    ...\n",
       "220   1874    5743      1\n",
       "221   1873    5745      1\n",
       "222   1873    5743      1\n",
       "223   1872    5745      1\n",
       "224  18889    5741      1\n",
       "\n",
       "[225 rows x 3 columns]"
      ]
     },
     "execution_count": 12,
     "metadata": {},
     "output_type": "execute_result"
    }
   ],
   "source": [
    "year_counts = df.value_counts(['Year', 'series_id']).to_frame().reset_index()\n",
    "year_counts.columns = ['year', 'series', 'count']\n",
    "year_counts"
   ]
  },
  {
   "cell_type": "markdown",
   "id": "6c205e5c-c866-4934-a462-33372e1efa58",
   "metadata": {},
   "source": [
    "See that '18889' at the end? Looks like there's some dodgy dates. Let's sort by year to see what the limits should be."
   ]
  },
  {
   "cell_type": "code",
   "execution_count": 13,
   "id": "edc5dbb7-5ffc-4312-b556-51d174f7fa45",
   "metadata": {},
   "outputs": [
    {
     "data": {
      "text/html": [
       "<div>\n",
       "<style scoped>\n",
       "    .dataframe tbody tr th:only-of-type {\n",
       "        vertical-align: middle;\n",
       "    }\n",
       "\n",
       "    .dataframe tbody tr th {\n",
       "        vertical-align: top;\n",
       "    }\n",
       "\n",
       "    .dataframe thead th {\n",
       "        text-align: right;\n",
       "    }\n",
       "</style>\n",
       "<table border=\"1\" class=\"dataframe\">\n",
       "  <thead>\n",
       "    <tr style=\"text-align: right;\">\n",
       "      <th></th>\n",
       "      <th>year</th>\n",
       "      <th>series</th>\n",
       "      <th>count</th>\n",
       "    </tr>\n",
       "  </thead>\n",
       "  <tbody>\n",
       "    <tr>\n",
       "      <th>204</th>\n",
       "      <td>0</td>\n",
       "      <td>5745</td>\n",
       "      <td>1</td>\n",
       "    </tr>\n",
       "    <tr>\n",
       "      <th>153</th>\n",
       "      <td>0</td>\n",
       "      <td>5741</td>\n",
       "      <td>5</td>\n",
       "    </tr>\n",
       "    <tr>\n",
       "      <th>169</th>\n",
       "      <td>0</td>\n",
       "      <td>5743</td>\n",
       "      <td>4</td>\n",
       "    </tr>\n",
       "    <tr>\n",
       "      <th>166</th>\n",
       "      <td>1851</td>\n",
       "      <td>12748</td>\n",
       "      <td>4</td>\n",
       "    </tr>\n",
       "    <tr>\n",
       "      <th>178</th>\n",
       "      <td>1853</td>\n",
       "      <td>12748</td>\n",
       "      <td>3</td>\n",
       "    </tr>\n",
       "    <tr>\n",
       "      <th>...</th>\n",
       "      <td>...</td>\n",
       "      <td>...</td>\n",
       "      <td>...</td>\n",
       "    </tr>\n",
       "    <tr>\n",
       "      <th>203</th>\n",
       "      <td>1904</td>\n",
       "      <td>7164</td>\n",
       "      <td>1</td>\n",
       "    </tr>\n",
       "    <tr>\n",
       "      <th>96</th>\n",
       "      <td>1904</td>\n",
       "      <td>8400</td>\n",
       "      <td>38</td>\n",
       "    </tr>\n",
       "    <tr>\n",
       "      <th>170</th>\n",
       "      <td>1905</td>\n",
       "      <td>8400</td>\n",
       "      <td>4</td>\n",
       "    </tr>\n",
       "    <tr>\n",
       "      <th>205</th>\n",
       "      <td>1969</td>\n",
       "      <td>5741</td>\n",
       "      <td>1</td>\n",
       "    </tr>\n",
       "    <tr>\n",
       "      <th>224</th>\n",
       "      <td>18889</td>\n",
       "      <td>5741</td>\n",
       "      <td>1</td>\n",
       "    </tr>\n",
       "  </tbody>\n",
       "</table>\n",
       "<p>225 rows × 3 columns</p>\n",
       "</div>"
      ],
      "text/plain": [
       "      year  series  count\n",
       "204      0    5745      1\n",
       "153      0    5741      5\n",
       "169      0    5743      4\n",
       "166   1851   12748      4\n",
       "178   1853   12748      3\n",
       "..     ...     ...    ...\n",
       "203   1904    7164      1\n",
       "96    1904    8400     38\n",
       "170   1905    8400      4\n",
       "205   1969    5741      1\n",
       "224  18889    5741      1\n",
       "\n",
       "[225 rows x 3 columns]"
      ]
     },
     "execution_count": 13,
     "metadata": {},
     "output_type": "execute_result"
    }
   ],
   "source": [
    "year_counts.sort_values('year')"
   ]
  },
  {
   "cell_type": "markdown",
   "id": "28ae8165-3c2d-45ad-a458-1fcc6268c418",
   "metadata": {},
   "source": [
    "So, it looks like we should filter out records before 1851 and after 1905.\n",
    "\n",
    "Let's apply that filter and visualise the results for all series in a stacked bar chart."
   ]
  },
  {
   "cell_type": "code",
   "execution_count": 65,
   "id": "2a35b0da-658e-4eec-8b90-b6e46c913148",
   "metadata": {},
   "outputs": [
    {
     "data": {
      "text/html": [
       "\n",
       "<div id=\"altair-viz-54592ff9e14d480bbf5fc87604b0f2af\"></div>\n",
       "<script type=\"text/javascript\">\n",
       "  (function(spec, embedOpt){\n",
       "    let outputDiv = document.currentScript.previousElementSibling;\n",
       "    if (outputDiv.id !== \"altair-viz-54592ff9e14d480bbf5fc87604b0f2af\") {\n",
       "      outputDiv = document.getElementById(\"altair-viz-54592ff9e14d480bbf5fc87604b0f2af\");\n",
       "    }\n",
       "    const paths = {\n",
       "      \"vega\": \"https://cdn.jsdelivr.net/npm//vega@5?noext\",\n",
       "      \"vega-lib\": \"https://cdn.jsdelivr.net/npm//vega-lib?noext\",\n",
       "      \"vega-lite\": \"https://cdn.jsdelivr.net/npm//vega-lite@4.8.1?noext\",\n",
       "      \"vega-embed\": \"https://cdn.jsdelivr.net/npm//vega-embed@6?noext\",\n",
       "    };\n",
       "\n",
       "    function loadScript(lib) {\n",
       "      return new Promise(function(resolve, reject) {\n",
       "        var s = document.createElement('script');\n",
       "        s.src = paths[lib];\n",
       "        s.async = true;\n",
       "        s.onload = () => resolve(paths[lib]);\n",
       "        s.onerror = () => reject(`Error loading script: ${paths[lib]}`);\n",
       "        document.getElementsByTagName(\"head\")[0].appendChild(s);\n",
       "      });\n",
       "    }\n",
       "\n",
       "    function showError(err) {\n",
       "      outputDiv.innerHTML = `<div class=\"error\" style=\"color:red;\">${err}</div>`;\n",
       "      throw err;\n",
       "    }\n",
       "\n",
       "    function displayChart(vegaEmbed) {\n",
       "      vegaEmbed(outputDiv, spec, embedOpt)\n",
       "        .catch(err => showError(`Javascript Error: ${err.message}<br>This usually means there's a typo in your chart specification. See the javascript console for the full traceback.`));\n",
       "    }\n",
       "\n",
       "    if(typeof define === \"function\" && define.amd) {\n",
       "      requirejs.config({paths});\n",
       "      require([\"vega-embed\"], displayChart, err => showError(`Error loading script: ${err.message}`));\n",
       "    } else if (typeof vegaEmbed === \"function\") {\n",
       "      displayChart(vegaEmbed);\n",
       "    } else {\n",
       "      loadScript(\"vega\")\n",
       "        .then(() => loadScript(\"vega-lite\"))\n",
       "        .then(() => loadScript(\"vega-embed\"))\n",
       "        .catch(showError)\n",
       "        .then(() => displayChart(vegaEmbed));\n",
       "    }\n",
       "  })({\"config\": {\"view\": {\"continuousWidth\": 400, \"continuousHeight\": 300}}, \"data\": {\"name\": \"data-e468eb246555b9259c727b36aad56698\"}, \"mark\": {\"type\": \"bar\", \"size\": 10}, \"encoding\": {\"color\": {\"type\": \"nominal\", \"field\": \"series\"}, \"tooltip\": [{\"type\": \"quantitative\", \"field\": \"year\"}, {\"type\": \"quantitative\", \"field\": \"series\"}, {\"type\": \"quantitative\", \"field\": \"count\"}], \"x\": {\"type\": \"quantitative\", \"axis\": {\"format\": \"c\"}, \"field\": \"year\"}, \"y\": {\"type\": \"quantitative\", \"field\": \"count\"}}, \"width\": 700, \"$schema\": \"https://vega.github.io/schema/vega-lite/v4.8.1.json\", \"datasets\": {\"data-e468eb246555b9259c727b36aad56698\": [{\"year\": 1886, \"series\": 5741, \"count\": 648}, {\"year\": 1886, \"series\": 5177, \"count\": 635}, {\"year\": 1883, \"series\": 5177, \"count\": 572}, {\"year\": 1888, \"series\": 5741, \"count\": 569}, {\"year\": 1888, \"series\": 5177, \"count\": 564}, {\"year\": 1884, \"series\": 5177, \"count\": 517}, {\"year\": 1887, \"series\": 5177, \"count\": 509}, {\"year\": 1882, \"series\": 5177, \"count\": 474}, {\"year\": 1874, \"series\": 5177, \"count\": 474}, {\"year\": 1901, \"series\": 5177, \"count\": 459}, {\"year\": 1878, \"series\": 5177, \"count\": 457}, {\"year\": 1878, \"series\": 5741, \"count\": 448}, {\"year\": 1885, \"series\": 5741, \"count\": 437}, {\"year\": 1875, \"series\": 5741, \"count\": 432}, {\"year\": 1889, \"series\": 5177, \"count\": 425}, {\"year\": 1875, \"series\": 5177, \"count\": 425}, {\"year\": 1889, \"series\": 5741, \"count\": 425}, {\"year\": 1885, \"series\": 5177, \"count\": 419}, {\"year\": 1902, \"series\": 5177, \"count\": 412}, {\"year\": 1881, \"series\": 5177, \"count\": 391}, {\"year\": 1903, \"series\": 5177, \"count\": 374}, {\"year\": 1880, \"series\": 5177, \"count\": 372}, {\"year\": 1899, \"series\": 5177, \"count\": 367}, {\"year\": 1877, \"series\": 5177, \"count\": 363}, {\"year\": 1900, \"series\": 5177, \"count\": 356}, {\"year\": 1879, \"series\": 5741, \"count\": 356}, {\"year\": 1880, \"series\": 5741, \"count\": 354}, {\"year\": 1877, \"series\": 5741, \"count\": 348}, {\"year\": 1898, \"series\": 5177, \"count\": 347}, {\"year\": 1890, \"series\": 5177, \"count\": 341}, {\"year\": 1879, \"series\": 5177, \"count\": 340}, {\"year\": 1876, \"series\": 5177, \"count\": 339}, {\"year\": 1890, \"series\": 5741, \"count\": 333}, {\"year\": 1891, \"series\": 5741, \"count\": 327}, {\"year\": 1876, \"series\": 5741, \"count\": 327}, {\"year\": 1891, \"series\": 5177, \"count\": 325}, {\"year\": 1895, \"series\": 5177, \"count\": 324}, {\"year\": 1901, \"series\": 5741, \"count\": 309}, {\"year\": 1894, \"series\": 5177, \"count\": 297}, {\"year\": 1892, \"series\": 5741, \"count\": 287}, {\"year\": 1892, \"series\": 5177, \"count\": 287}, {\"year\": 1896, \"series\": 5177, \"count\": 279}, {\"year\": 1900, \"series\": 5741, \"count\": 278}, {\"year\": 1873, \"series\": 5177, \"count\": 275}, {\"year\": 1897, \"series\": 5177, \"count\": 274}, {\"year\": 1902, \"series\": 5741, \"count\": 263}, {\"year\": 1899, \"series\": 5741, \"count\": 263}, {\"year\": 1873, \"series\": 5741, \"count\": 263}, {\"year\": 1901, \"series\": 8400, \"count\": 262}, {\"year\": 1893, \"series\": 5177, \"count\": 260}, {\"year\": 1893, \"series\": 5741, \"count\": 259}, {\"year\": 1866, \"series\": 5741, \"count\": 255}, {\"year\": 1898, \"series\": 5741, \"count\": 253}, {\"year\": 1895, \"series\": 5741, \"count\": 252}, {\"year\": 1894, \"series\": 5741, \"count\": 249}, {\"year\": 1866, \"series\": 5177, \"count\": 244}, {\"year\": 1865, \"series\": 5741, \"count\": 243}, {\"year\": 1865, \"series\": 5177, \"count\": 240}, {\"year\": 1872, \"series\": 5177, \"count\": 227}, {\"year\": 1903, \"series\": 5741, \"count\": 225}, {\"year\": 1872, \"series\": 5741, \"count\": 223}, {\"year\": 1864, \"series\": 5177, \"count\": 208}, {\"year\": 1864, \"series\": 5741, \"count\": 197}, {\"year\": 1896, \"series\": 5741, \"count\": 197}, {\"year\": 1897, \"series\": 5741, \"count\": 186}, {\"year\": 1870, \"series\": 5741, \"count\": 169}, {\"year\": 1870, \"series\": 5177, \"count\": 165}, {\"year\": 1869, \"series\": 5741, \"count\": 160}, {\"year\": 1869, \"series\": 5177, \"count\": 158}, {\"year\": 1868, \"series\": 5177, \"count\": 150}, {\"year\": 1871, \"series\": 5741, \"count\": 147}, {\"year\": 1868, \"series\": 5741, \"count\": 141}, {\"year\": 1871, \"series\": 5177, \"count\": 137}, {\"year\": 1867, \"series\": 5741, \"count\": 129}, {\"year\": 1867, \"series\": 5177, \"count\": 128}, {\"year\": 1862, \"series\": 5177, \"count\": 127}, {\"year\": 1862, \"series\": 5741, \"count\": 126}, {\"year\": 1901, \"series\": 7224, \"count\": 118}, {\"year\": 1861, \"series\": 5177, \"count\": 114}, {\"year\": 1903, \"series\": 8400, \"count\": 113}, {\"year\": 1863, \"series\": 5177, \"count\": 103}, {\"year\": 1863, \"series\": 5741, \"count\": 96}, {\"year\": 1860, \"series\": 5253, \"count\": 80}, {\"year\": 1860, \"series\": 5741, \"count\": 70}, {\"year\": 1895, \"series\": 7224, \"count\": 69}, {\"year\": 1861, \"series\": 5741, \"count\": 68}, {\"year\": 1860, \"series\": 5743, \"count\": 64}, {\"year\": 1860, \"series\": 5177, \"count\": 62}, {\"year\": 1896, \"series\": 7224, \"count\": 56}, {\"year\": 1897, \"series\": 7224, \"count\": 54}, {\"year\": 1899, \"series\": 9403, \"count\": 49}, {\"year\": 1894, \"series\": 7224, \"count\": 49}, {\"year\": 1900, \"series\": 7224, \"count\": 49}, {\"year\": 1902, \"series\": 9403, \"count\": 42}, {\"year\": 1901, \"series\": 9403, \"count\": 40}, {\"year\": 1886, \"series\": 7224, \"count\": 38}, {\"year\": 1904, \"series\": 8400, \"count\": 38}, {\"year\": 1902, \"series\": 8400, \"count\": 37}, {\"year\": 1885, \"series\": 7224, \"count\": 37}, {\"year\": 1896, \"series\": 9403, \"count\": 33}, {\"year\": 1900, \"series\": 9403, \"count\": 33}, {\"year\": 1882, \"series\": 7224, \"count\": 33}, {\"year\": 1897, \"series\": 9403, \"count\": 32}, {\"year\": 1888, \"series\": 7224, \"count\": 30}, {\"year\": 1898, \"series\": 9403, \"count\": 29}, {\"year\": 1888, \"series\": 7164, \"count\": 28}, {\"year\": 1861, \"series\": 5743, \"count\": 23}, {\"year\": 1884, \"series\": 5743, \"count\": 23}, {\"year\": 1884, \"series\": 7224, \"count\": 23}, {\"year\": 1899, \"series\": 8400, \"count\": 22}, {\"year\": 1883, \"series\": 7224, \"count\": 22}, {\"year\": 1887, \"series\": 7164, \"count\": 21}, {\"year\": 1891, \"series\": 7224, \"count\": 19}, {\"year\": 1879, \"series\": 7224, \"count\": 18}, {\"year\": 1878, \"series\": 5743, \"count\": 18}, {\"year\": 1890, \"series\": 7224, \"count\": 17}, {\"year\": 1892, \"series\": 5743, \"count\": 16}, {\"year\": 1887, \"series\": 7224, \"count\": 15}, {\"year\": 1893, \"series\": 7224, \"count\": 15}, {\"year\": 1900, \"series\": 8400, \"count\": 13}, {\"year\": 1903, \"series\": 5745, \"count\": 13}, {\"year\": 1881, \"series\": 7224, \"count\": 13}, {\"year\": 1889, \"series\": 7224, \"count\": 12}, {\"year\": 1879, \"series\": 5743, \"count\": 11}, {\"year\": 1890, \"series\": 7164, \"count\": 10}, {\"year\": 1894, \"series\": 8400, \"count\": 10}, {\"year\": 1878, \"series\": 7224, \"count\": 10}, {\"year\": 1901, \"series\": 5745, \"count\": 10}, {\"year\": 1884, \"series\": 5741, \"count\": 10}, {\"year\": 1888, \"series\": 5745, \"count\": 10}, {\"year\": 1880, \"series\": 7224, \"count\": 9}, {\"year\": 1895, \"series\": 7164, \"count\": 9}, {\"year\": 1894, \"series\": 5743, \"count\": 9}, {\"year\": 1877, \"series\": 7224, \"count\": 9}, {\"year\": 1889, \"series\": 7164, \"count\": 9}, {\"year\": 1887, \"series\": 5743, \"count\": 8}, {\"year\": 1897, \"series\": 5745, \"count\": 8}, {\"year\": 1874, \"series\": 5741, \"count\": 8}, {\"year\": 1892, \"series\": 8400, \"count\": 8}, {\"year\": 1885, \"series\": 5743, \"count\": 8}, {\"year\": 1891, \"series\": 7164, \"count\": 8}, {\"year\": 1899, \"series\": 5745, \"count\": 8}, {\"year\": 1900, \"series\": 7164, \"count\": 8}, {\"year\": 1876, \"series\": 7224, \"count\": 7}, {\"year\": 1886, \"series\": 5745, \"count\": 7}, {\"year\": 1898, \"series\": 5745, \"count\": 7}, {\"year\": 1885, \"series\": 5745, \"count\": 6}, {\"year\": 1870, \"series\": 5743, \"count\": 6}, {\"year\": 1896, \"series\": 7164, \"count\": 6}, {\"year\": 1902, \"series\": 5745, \"count\": 6}, {\"year\": 1887, \"series\": 8400, \"count\": 6}, {\"year\": 1898, \"series\": 8400, \"count\": 5}, {\"year\": 1900, \"series\": 5745, \"count\": 5}, {\"year\": 1893, \"series\": 5745, \"count\": 5}, {\"year\": 1889, \"series\": 5745, \"count\": 5}, {\"year\": 1893, \"series\": 5743, \"count\": 5}, {\"year\": 1881, \"series\": 8400, \"count\": 5}, {\"year\": 1882, \"series\": 5743, \"count\": 5}, {\"year\": 1875, \"series\": 7224, \"count\": 5}, {\"year\": 1884, \"series\": 5745, \"count\": 5}, {\"year\": 1887, \"series\": 5745, \"count\": 5}, {\"year\": 1889, \"series\": 5743, \"count\": 5}, {\"year\": 1859, \"series\": 5177, \"count\": 5}, {\"year\": 1881, \"series\": 5743, \"count\": 4}, {\"year\": 1903, \"series\": 7164, \"count\": 4}, {\"year\": 1851, \"series\": 12748, \"count\": 4}, {\"year\": 1858, \"series\": 5177, \"count\": 4}, {\"year\": 1859, \"series\": 5741, \"count\": 4}, {\"year\": 1905, \"series\": 8400, \"count\": 4}, {\"year\": 1895, \"series\": 5745, \"count\": 4}, {\"year\": 1892, \"series\": 7224, \"count\": 4}, {\"year\": 1894, \"series\": 5745, \"count\": 4}, {\"year\": 1883, \"series\": 5743, \"count\": 3}, {\"year\": 1855, \"series\": 12748, \"count\": 3}, {\"year\": 1898, \"series\": 7164, \"count\": 3}, {\"year\": 1856, \"series\": 12748, \"count\": 3}, {\"year\": 1853, \"series\": 12748, \"count\": 3}, {\"year\": 1862, \"series\": 5743, \"count\": 3}, {\"year\": 1890, \"series\": 5745, \"count\": 3}, {\"year\": 1892, \"series\": 5745, \"count\": 3}, {\"year\": 1891, \"series\": 5745, \"count\": 3}, {\"year\": 1902, \"series\": 7224, \"count\": 3}, {\"year\": 1899, \"series\": 7164, \"count\": 3}, {\"year\": 1876, \"series\": 5745, \"count\": 2}, {\"year\": 1901, \"series\": 7164, \"count\": 2}, {\"year\": 1869, \"series\": 5743, \"count\": 2}, {\"year\": 1902, \"series\": 7164, \"count\": 2}, {\"year\": 1858, \"series\": 5741, \"count\": 2}, {\"year\": 1893, \"series\": 7164, \"count\": 2}, {\"year\": 1880, \"series\": 5743, \"count\": 2}, {\"year\": 1882, \"series\": 5745, \"count\": 2}, {\"year\": 1861, \"series\": 5253, \"count\": 2}, {\"year\": 1883, \"series\": 8400, \"count\": 2}, {\"year\": 1897, \"series\": 7164, \"count\": 2}, {\"year\": 1886, \"series\": 5743, \"count\": 2}, {\"year\": 1896, \"series\": 5745, \"count\": 2}, {\"year\": 1891, \"series\": 5743, \"count\": 2}, {\"year\": 1894, \"series\": 7164, \"count\": 2}, {\"year\": 1883, \"series\": 5745, \"count\": 2}, {\"year\": 1855, \"series\": 5741, \"count\": 1}, {\"year\": 1854, \"series\": 12748, \"count\": 1}, {\"year\": 1904, \"series\": 7164, \"count\": 1}, {\"year\": 1899, \"series\": 5743, \"count\": 1}, {\"year\": 1861, \"series\": 8400, \"count\": 1}, {\"year\": 1871, \"series\": 5743, \"count\": 1}, {\"year\": 1892, \"series\": 7164, \"count\": 1}, {\"year\": 1890, \"series\": 8400, \"count\": 1}, {\"year\": 1890, \"series\": 5743, \"count\": 1}, {\"year\": 1886, \"series\": 7164, \"count\": 1}, {\"year\": 1885, \"series\": 12748, \"count\": 1}, {\"year\": 1897, \"series\": 8400, \"count\": 1}, {\"year\": 1898, \"series\": 5743, \"count\": 1}, {\"year\": 1880, \"series\": 5745, \"count\": 1}, {\"year\": 1879, \"series\": 5745, \"count\": 1}, {\"year\": 1877, \"series\": 5745, \"count\": 1}, {\"year\": 1877, \"series\": 5743, \"count\": 1}, {\"year\": 1874, \"series\": 5743, \"count\": 1}, {\"year\": 1873, \"series\": 5745, \"count\": 1}, {\"year\": 1873, \"series\": 5743, \"count\": 1}, {\"year\": 1872, \"series\": 5745, \"count\": 1}]}}, {\"mode\": \"vega-lite\"});\n",
       "</script>"
      ],
      "text/plain": [
       "alt.Chart(...)"
      ]
     },
     "execution_count": 65,
     "metadata": {},
     "output_type": "execute_result"
    }
   ],
   "source": [
    "alt.Chart(year_counts.loc[(year_counts['year'] >= 1851) & (year_counts['year'] <= 1905)]).mark_bar(size=10).encode(\n",
    "    x=alt.X('year:Q', axis=alt.Axis(format='c')),\n",
    "    y='count:Q',\n",
    "    color='series:N',\n",
    "    tooltip=['year', 'series', 'count']\n",
    ").properties(width=700)"
   ]
  },
  {
   "cell_type": "markdown",
   "id": "e4c8946b-bb4b-4f21-9ca9-7f0287d62105",
   "metadata": {},
   "source": [
    "To make the different date ranges clearer, we can facet the results by series."
   ]
  },
  {
   "cell_type": "code",
   "execution_count": 47,
   "id": "26f87505-fb49-43b7-8c3a-9540b2d72569",
   "metadata": {},
   "outputs": [
    {
     "data": {
      "text/html": [
       "\n",
       "<div id=\"altair-viz-812b66c6e42c4c0c987d834650f7d1fe\"></div>\n",
       "<script type=\"text/javascript\">\n",
       "  (function(spec, embedOpt){\n",
       "    let outputDiv = document.currentScript.previousElementSibling;\n",
       "    if (outputDiv.id !== \"altair-viz-812b66c6e42c4c0c987d834650f7d1fe\") {\n",
       "      outputDiv = document.getElementById(\"altair-viz-812b66c6e42c4c0c987d834650f7d1fe\");\n",
       "    }\n",
       "    const paths = {\n",
       "      \"vega\": \"https://cdn.jsdelivr.net/npm//vega@5?noext\",\n",
       "      \"vega-lib\": \"https://cdn.jsdelivr.net/npm//vega-lib?noext\",\n",
       "      \"vega-lite\": \"https://cdn.jsdelivr.net/npm//vega-lite@4.8.1?noext\",\n",
       "      \"vega-embed\": \"https://cdn.jsdelivr.net/npm//vega-embed@6?noext\",\n",
       "    };\n",
       "\n",
       "    function loadScript(lib) {\n",
       "      return new Promise(function(resolve, reject) {\n",
       "        var s = document.createElement('script');\n",
       "        s.src = paths[lib];\n",
       "        s.async = true;\n",
       "        s.onload = () => resolve(paths[lib]);\n",
       "        s.onerror = () => reject(`Error loading script: ${paths[lib]}`);\n",
       "        document.getElementsByTagName(\"head\")[0].appendChild(s);\n",
       "      });\n",
       "    }\n",
       "\n",
       "    function showError(err) {\n",
       "      outputDiv.innerHTML = `<div class=\"error\" style=\"color:red;\">${err}</div>`;\n",
       "      throw err;\n",
       "    }\n",
       "\n",
       "    function displayChart(vegaEmbed) {\n",
       "      vegaEmbed(outputDiv, spec, embedOpt)\n",
       "        .catch(err => showError(`Javascript Error: ${err.message}<br>This usually means there's a typo in your chart specification. See the javascript console for the full traceback.`));\n",
       "    }\n",
       "\n",
       "    if(typeof define === \"function\" && define.amd) {\n",
       "      requirejs.config({paths});\n",
       "      require([\"vega-embed\"], displayChart, err => showError(`Error loading script: ${err.message}`));\n",
       "    } else if (typeof vegaEmbed === \"function\") {\n",
       "      displayChart(vegaEmbed);\n",
       "    } else {\n",
       "      loadScript(\"vega\")\n",
       "        .then(() => loadScript(\"vega-lite\"))\n",
       "        .then(() => loadScript(\"vega-embed\"))\n",
       "        .catch(showError)\n",
       "        .then(() => displayChart(vegaEmbed));\n",
       "    }\n",
       "  })({\"config\": {\"view\": {\"continuousWidth\": 400, \"continuousHeight\": 300}}, \"data\": {\"name\": \"data-e468eb246555b9259c727b36aad56698\"}, \"mark\": {\"type\": \"bar\", \"size\": 5}, \"encoding\": {\"color\": {\"type\": \"nominal\", \"field\": \"series\"}, \"facet\": {\"type\": \"nominal\", \"columns\": 2, \"field\": \"series\"}, \"tooltip\": [{\"type\": \"quantitative\", \"field\": \"year\"}, {\"type\": \"quantitative\", \"field\": \"count\"}], \"x\": {\"type\": \"quantitative\", \"axis\": {\"format\": \"c\"}, \"field\": \"year\"}, \"y\": {\"type\": \"quantitative\", \"field\": \"count\"}}, \"height\": 150, \"width\": 350, \"$schema\": \"https://vega.github.io/schema/vega-lite/v4.8.1.json\", \"datasets\": {\"data-e468eb246555b9259c727b36aad56698\": [{\"year\": 1886, \"series\": 5741, \"count\": 648}, {\"year\": 1886, \"series\": 5177, \"count\": 635}, {\"year\": 1883, \"series\": 5177, \"count\": 572}, {\"year\": 1888, \"series\": 5741, \"count\": 569}, {\"year\": 1888, \"series\": 5177, \"count\": 564}, {\"year\": 1884, \"series\": 5177, \"count\": 517}, {\"year\": 1887, \"series\": 5177, \"count\": 509}, {\"year\": 1882, \"series\": 5177, \"count\": 474}, {\"year\": 1874, \"series\": 5177, \"count\": 474}, {\"year\": 1901, \"series\": 5177, \"count\": 459}, {\"year\": 1878, \"series\": 5177, \"count\": 457}, {\"year\": 1878, \"series\": 5741, \"count\": 448}, {\"year\": 1885, \"series\": 5741, \"count\": 437}, {\"year\": 1875, \"series\": 5741, \"count\": 432}, {\"year\": 1889, \"series\": 5177, \"count\": 425}, {\"year\": 1875, \"series\": 5177, \"count\": 425}, {\"year\": 1889, \"series\": 5741, \"count\": 425}, {\"year\": 1885, \"series\": 5177, \"count\": 419}, {\"year\": 1902, \"series\": 5177, \"count\": 412}, {\"year\": 1881, \"series\": 5177, \"count\": 391}, {\"year\": 1903, \"series\": 5177, \"count\": 374}, {\"year\": 1880, \"series\": 5177, \"count\": 372}, {\"year\": 1899, \"series\": 5177, \"count\": 367}, {\"year\": 1877, \"series\": 5177, \"count\": 363}, {\"year\": 1900, \"series\": 5177, \"count\": 356}, {\"year\": 1879, \"series\": 5741, \"count\": 356}, {\"year\": 1880, \"series\": 5741, \"count\": 354}, {\"year\": 1877, \"series\": 5741, \"count\": 348}, {\"year\": 1898, \"series\": 5177, \"count\": 347}, {\"year\": 1890, \"series\": 5177, \"count\": 341}, {\"year\": 1879, \"series\": 5177, \"count\": 340}, {\"year\": 1876, \"series\": 5177, \"count\": 339}, {\"year\": 1890, \"series\": 5741, \"count\": 333}, {\"year\": 1891, \"series\": 5741, \"count\": 327}, {\"year\": 1876, \"series\": 5741, \"count\": 327}, {\"year\": 1891, \"series\": 5177, \"count\": 325}, {\"year\": 1895, \"series\": 5177, \"count\": 324}, {\"year\": 1901, \"series\": 5741, \"count\": 309}, {\"year\": 1894, \"series\": 5177, \"count\": 297}, {\"year\": 1892, \"series\": 5741, \"count\": 287}, {\"year\": 1892, \"series\": 5177, \"count\": 287}, {\"year\": 1896, \"series\": 5177, \"count\": 279}, {\"year\": 1900, \"series\": 5741, \"count\": 278}, {\"year\": 1873, \"series\": 5177, \"count\": 275}, {\"year\": 1897, \"series\": 5177, \"count\": 274}, {\"year\": 1902, \"series\": 5741, \"count\": 263}, {\"year\": 1899, \"series\": 5741, \"count\": 263}, {\"year\": 1873, \"series\": 5741, \"count\": 263}, {\"year\": 1901, \"series\": 8400, \"count\": 262}, {\"year\": 1893, \"series\": 5177, \"count\": 260}, {\"year\": 1893, \"series\": 5741, \"count\": 259}, {\"year\": 1866, \"series\": 5741, \"count\": 255}, {\"year\": 1898, \"series\": 5741, \"count\": 253}, {\"year\": 1895, \"series\": 5741, \"count\": 252}, {\"year\": 1894, \"series\": 5741, \"count\": 249}, {\"year\": 1866, \"series\": 5177, \"count\": 244}, {\"year\": 1865, \"series\": 5741, \"count\": 243}, {\"year\": 1865, \"series\": 5177, \"count\": 240}, {\"year\": 1872, \"series\": 5177, \"count\": 227}, {\"year\": 1903, \"series\": 5741, \"count\": 225}, {\"year\": 1872, \"series\": 5741, \"count\": 223}, {\"year\": 1864, \"series\": 5177, \"count\": 208}, {\"year\": 1864, \"series\": 5741, \"count\": 197}, {\"year\": 1896, \"series\": 5741, \"count\": 197}, {\"year\": 1897, \"series\": 5741, \"count\": 186}, {\"year\": 1870, \"series\": 5741, \"count\": 169}, {\"year\": 1870, \"series\": 5177, \"count\": 165}, {\"year\": 1869, \"series\": 5741, \"count\": 160}, {\"year\": 1869, \"series\": 5177, \"count\": 158}, {\"year\": 1868, \"series\": 5177, \"count\": 150}, {\"year\": 1871, \"series\": 5741, \"count\": 147}, {\"year\": 1868, \"series\": 5741, \"count\": 141}, {\"year\": 1871, \"series\": 5177, \"count\": 137}, {\"year\": 1867, \"series\": 5741, \"count\": 129}, {\"year\": 1867, \"series\": 5177, \"count\": 128}, {\"year\": 1862, \"series\": 5177, \"count\": 127}, {\"year\": 1862, \"series\": 5741, \"count\": 126}, {\"year\": 1901, \"series\": 7224, \"count\": 118}, {\"year\": 1861, \"series\": 5177, \"count\": 114}, {\"year\": 1903, \"series\": 8400, \"count\": 113}, {\"year\": 1863, \"series\": 5177, \"count\": 103}, {\"year\": 1863, \"series\": 5741, \"count\": 96}, {\"year\": 1860, \"series\": 5253, \"count\": 80}, {\"year\": 1860, \"series\": 5741, \"count\": 70}, {\"year\": 1895, \"series\": 7224, \"count\": 69}, {\"year\": 1861, \"series\": 5741, \"count\": 68}, {\"year\": 1860, \"series\": 5743, \"count\": 64}, {\"year\": 1860, \"series\": 5177, \"count\": 62}, {\"year\": 1896, \"series\": 7224, \"count\": 56}, {\"year\": 1897, \"series\": 7224, \"count\": 54}, {\"year\": 1899, \"series\": 9403, \"count\": 49}, {\"year\": 1894, \"series\": 7224, \"count\": 49}, {\"year\": 1900, \"series\": 7224, \"count\": 49}, {\"year\": 1902, \"series\": 9403, \"count\": 42}, {\"year\": 1901, \"series\": 9403, \"count\": 40}, {\"year\": 1886, \"series\": 7224, \"count\": 38}, {\"year\": 1904, \"series\": 8400, \"count\": 38}, {\"year\": 1902, \"series\": 8400, \"count\": 37}, {\"year\": 1885, \"series\": 7224, \"count\": 37}, {\"year\": 1896, \"series\": 9403, \"count\": 33}, {\"year\": 1900, \"series\": 9403, \"count\": 33}, {\"year\": 1882, \"series\": 7224, \"count\": 33}, {\"year\": 1897, \"series\": 9403, \"count\": 32}, {\"year\": 1888, \"series\": 7224, \"count\": 30}, {\"year\": 1898, \"series\": 9403, \"count\": 29}, {\"year\": 1888, \"series\": 7164, \"count\": 28}, {\"year\": 1861, \"series\": 5743, \"count\": 23}, {\"year\": 1884, \"series\": 5743, \"count\": 23}, {\"year\": 1884, \"series\": 7224, \"count\": 23}, {\"year\": 1899, \"series\": 8400, \"count\": 22}, {\"year\": 1883, \"series\": 7224, \"count\": 22}, {\"year\": 1887, \"series\": 7164, \"count\": 21}, {\"year\": 1891, \"series\": 7224, \"count\": 19}, {\"year\": 1879, \"series\": 7224, \"count\": 18}, {\"year\": 1878, \"series\": 5743, \"count\": 18}, {\"year\": 1890, \"series\": 7224, \"count\": 17}, {\"year\": 1892, \"series\": 5743, \"count\": 16}, {\"year\": 1887, \"series\": 7224, \"count\": 15}, {\"year\": 1893, \"series\": 7224, \"count\": 15}, {\"year\": 1900, \"series\": 8400, \"count\": 13}, {\"year\": 1903, \"series\": 5745, \"count\": 13}, {\"year\": 1881, \"series\": 7224, \"count\": 13}, {\"year\": 1889, \"series\": 7224, \"count\": 12}, {\"year\": 1879, \"series\": 5743, \"count\": 11}, {\"year\": 1890, \"series\": 7164, \"count\": 10}, {\"year\": 1894, \"series\": 8400, \"count\": 10}, {\"year\": 1878, \"series\": 7224, \"count\": 10}, {\"year\": 1901, \"series\": 5745, \"count\": 10}, {\"year\": 1884, \"series\": 5741, \"count\": 10}, {\"year\": 1888, \"series\": 5745, \"count\": 10}, {\"year\": 1880, \"series\": 7224, \"count\": 9}, {\"year\": 1895, \"series\": 7164, \"count\": 9}, {\"year\": 1894, \"series\": 5743, \"count\": 9}, {\"year\": 1877, \"series\": 7224, \"count\": 9}, {\"year\": 1889, \"series\": 7164, \"count\": 9}, {\"year\": 1887, \"series\": 5743, \"count\": 8}, {\"year\": 1897, \"series\": 5745, \"count\": 8}, {\"year\": 1874, \"series\": 5741, \"count\": 8}, {\"year\": 1892, \"series\": 8400, \"count\": 8}, {\"year\": 1885, \"series\": 5743, \"count\": 8}, {\"year\": 1891, \"series\": 7164, \"count\": 8}, {\"year\": 1899, \"series\": 5745, \"count\": 8}, {\"year\": 1900, \"series\": 7164, \"count\": 8}, {\"year\": 1876, \"series\": 7224, \"count\": 7}, {\"year\": 1886, \"series\": 5745, \"count\": 7}, {\"year\": 1898, \"series\": 5745, \"count\": 7}, {\"year\": 1885, \"series\": 5745, \"count\": 6}, {\"year\": 1870, \"series\": 5743, \"count\": 6}, {\"year\": 1896, \"series\": 7164, \"count\": 6}, {\"year\": 1902, \"series\": 5745, \"count\": 6}, {\"year\": 1887, \"series\": 8400, \"count\": 6}, {\"year\": 1898, \"series\": 8400, \"count\": 5}, {\"year\": 1900, \"series\": 5745, \"count\": 5}, {\"year\": 1893, \"series\": 5745, \"count\": 5}, {\"year\": 1889, \"series\": 5745, \"count\": 5}, {\"year\": 1893, \"series\": 5743, \"count\": 5}, {\"year\": 1881, \"series\": 8400, \"count\": 5}, {\"year\": 1882, \"series\": 5743, \"count\": 5}, {\"year\": 1875, \"series\": 7224, \"count\": 5}, {\"year\": 1884, \"series\": 5745, \"count\": 5}, {\"year\": 1887, \"series\": 5745, \"count\": 5}, {\"year\": 1889, \"series\": 5743, \"count\": 5}, {\"year\": 1859, \"series\": 5177, \"count\": 5}, {\"year\": 1881, \"series\": 5743, \"count\": 4}, {\"year\": 1903, \"series\": 7164, \"count\": 4}, {\"year\": 1851, \"series\": 12748, \"count\": 4}, {\"year\": 1858, \"series\": 5177, \"count\": 4}, {\"year\": 1859, \"series\": 5741, \"count\": 4}, {\"year\": 1905, \"series\": 8400, \"count\": 4}, {\"year\": 1895, \"series\": 5745, \"count\": 4}, {\"year\": 1892, \"series\": 7224, \"count\": 4}, {\"year\": 1894, \"series\": 5745, \"count\": 4}, {\"year\": 1883, \"series\": 5743, \"count\": 3}, {\"year\": 1855, \"series\": 12748, \"count\": 3}, {\"year\": 1898, \"series\": 7164, \"count\": 3}, {\"year\": 1856, \"series\": 12748, \"count\": 3}, {\"year\": 1853, \"series\": 12748, \"count\": 3}, {\"year\": 1862, \"series\": 5743, \"count\": 3}, {\"year\": 1890, \"series\": 5745, \"count\": 3}, {\"year\": 1892, \"series\": 5745, \"count\": 3}, {\"year\": 1891, \"series\": 5745, \"count\": 3}, {\"year\": 1902, \"series\": 7224, \"count\": 3}, {\"year\": 1899, \"series\": 7164, \"count\": 3}, {\"year\": 1876, \"series\": 5745, \"count\": 2}, {\"year\": 1901, \"series\": 7164, \"count\": 2}, {\"year\": 1869, \"series\": 5743, \"count\": 2}, {\"year\": 1902, \"series\": 7164, \"count\": 2}, {\"year\": 1858, \"series\": 5741, \"count\": 2}, {\"year\": 1893, \"series\": 7164, \"count\": 2}, {\"year\": 1880, \"series\": 5743, \"count\": 2}, {\"year\": 1882, \"series\": 5745, \"count\": 2}, {\"year\": 1861, \"series\": 5253, \"count\": 2}, {\"year\": 1883, \"series\": 8400, \"count\": 2}, {\"year\": 1897, \"series\": 7164, \"count\": 2}, {\"year\": 1886, \"series\": 5743, \"count\": 2}, {\"year\": 1896, \"series\": 5745, \"count\": 2}, {\"year\": 1891, \"series\": 5743, \"count\": 2}, {\"year\": 1894, \"series\": 7164, \"count\": 2}, {\"year\": 1883, \"series\": 5745, \"count\": 2}, {\"year\": 1855, \"series\": 5741, \"count\": 1}, {\"year\": 1854, \"series\": 12748, \"count\": 1}, {\"year\": 1904, \"series\": 7164, \"count\": 1}, {\"year\": 1899, \"series\": 5743, \"count\": 1}, {\"year\": 1861, \"series\": 8400, \"count\": 1}, {\"year\": 1871, \"series\": 5743, \"count\": 1}, {\"year\": 1892, \"series\": 7164, \"count\": 1}, {\"year\": 1890, \"series\": 8400, \"count\": 1}, {\"year\": 1890, \"series\": 5743, \"count\": 1}, {\"year\": 1886, \"series\": 7164, \"count\": 1}, {\"year\": 1885, \"series\": 12748, \"count\": 1}, {\"year\": 1897, \"series\": 8400, \"count\": 1}, {\"year\": 1898, \"series\": 5743, \"count\": 1}, {\"year\": 1880, \"series\": 5745, \"count\": 1}, {\"year\": 1879, \"series\": 5745, \"count\": 1}, {\"year\": 1877, \"series\": 5745, \"count\": 1}, {\"year\": 1877, \"series\": 5743, \"count\": 1}, {\"year\": 1874, \"series\": 5743, \"count\": 1}, {\"year\": 1873, \"series\": 5745, \"count\": 1}, {\"year\": 1873, \"series\": 5743, \"count\": 1}, {\"year\": 1872, \"series\": 5745, \"count\": 1}]}}, {\"mode\": \"vega-lite\"});\n",
       "</script>"
      ],
      "text/plain": [
       "alt.Chart(...)"
      ]
     },
     "execution_count": 47,
     "metadata": {},
     "output_type": "execute_result"
    }
   ],
   "source": [
    "alt.Chart(year_counts.loc[(year_counts['year'] >= 1851) & (year_counts['year'] <= 1905)]).mark_bar(size=5).encode(\n",
    "    x=alt.X('year:Q', axis=alt.Axis(format='c')),\n",
    "    y='count:Q',\n",
    "    color='series:N',\n",
    "    facet=alt.Facet('series:N', columns=2),\n",
    "    tooltip=['year', 'count']\n",
    ").properties(width=350, height=150)"
   ]
  },
  {
   "cell_type": "markdown",
   "id": "54231276-0d9a-4d25-b3a5-c8e9888d5ab8",
   "metadata": {},
   "source": [
    "We can see that series 5177 and 5745, which both record Oaths of Allegiance, have similar distributions, though there are significant differences. On way we might be able to create a more complete time series would be to combine the results of these two series, then remove duplicates based on name and year.\n",
    "\n",
    "First we filter the dataset to include just these series."
   ]
  },
  {
   "cell_type": "code",
   "execution_count": 55,
   "id": "e82ebfc0-26e0-4780-9ebd-f75846d2c608",
   "metadata": {},
   "outputs": [
    {
     "data": {
      "text/plain": [
       "24669"
      ]
     },
     "execution_count": 55,
     "metadata": {},
     "output_type": "execute_result"
    }
   ],
   "source": [
    "df_oaths = df.copy().loc[df['series_id'].isin([5177, 5741])]\n",
    "# How many records?\n",
    "df_oaths.shape[0]"
   ]
  },
  {
   "cell_type": "markdown",
   "id": "c6bbe2c0-0555-4fce-9c60-39a739f3eac4",
   "metadata": {},
   "source": [
    "Then we remove duplicates based on name and year."
   ]
  },
  {
   "cell_type": "code",
   "execution_count": 56,
   "id": "cbcd4a36-924b-4ac9-b1b8-e5a683545ea3",
   "metadata": {},
   "outputs": [
    {
     "data": {
      "text/plain": [
       "17755"
      ]
     },
     "execution_count": 56,
     "metadata": {},
     "output_type": "execute_result"
    }
   ],
   "source": [
    "df_oaths.drop_duplicates(subset=['Last name', 'Given names', 'Year'], inplace=True)\n",
    "# How many now?\n",
    "df_oaths.shape[0]"
   ]
  },
  {
   "cell_type": "markdown",
   "id": "38621c8f-1d2d-4cd5-a0d1-4340bfbef937",
   "metadata": {},
   "source": [
    "We can now visualise the deduplicated dataset."
   ]
  },
  {
   "cell_type": "code",
   "execution_count": 63,
   "id": "8176179b-b72d-463a-878a-4574954bff5e",
   "metadata": {},
   "outputs": [],
   "source": [
    "oath_year_counts = df_oaths.value_counts(['Year', 'series_id']).to_frame().reset_index()\n",
    "oath_year_counts.columns = ['year', 'series', 'count']"
   ]
  },
  {
   "cell_type": "code",
   "execution_count": 66,
   "id": "fc4efcd2-cf29-41df-9dbf-be02a218b493",
   "metadata": {},
   "outputs": [
    {
     "data": {
      "text/html": [
       "\n",
       "<div id=\"altair-viz-f3fe5290d03b40a799d9a5b04495841b\"></div>\n",
       "<script type=\"text/javascript\">\n",
       "  (function(spec, embedOpt){\n",
       "    let outputDiv = document.currentScript.previousElementSibling;\n",
       "    if (outputDiv.id !== \"altair-viz-f3fe5290d03b40a799d9a5b04495841b\") {\n",
       "      outputDiv = document.getElementById(\"altair-viz-f3fe5290d03b40a799d9a5b04495841b\");\n",
       "    }\n",
       "    const paths = {\n",
       "      \"vega\": \"https://cdn.jsdelivr.net/npm//vega@5?noext\",\n",
       "      \"vega-lib\": \"https://cdn.jsdelivr.net/npm//vega-lib?noext\",\n",
       "      \"vega-lite\": \"https://cdn.jsdelivr.net/npm//vega-lite@4.8.1?noext\",\n",
       "      \"vega-embed\": \"https://cdn.jsdelivr.net/npm//vega-embed@6?noext\",\n",
       "    };\n",
       "\n",
       "    function loadScript(lib) {\n",
       "      return new Promise(function(resolve, reject) {\n",
       "        var s = document.createElement('script');\n",
       "        s.src = paths[lib];\n",
       "        s.async = true;\n",
       "        s.onload = () => resolve(paths[lib]);\n",
       "        s.onerror = () => reject(`Error loading script: ${paths[lib]}`);\n",
       "        document.getElementsByTagName(\"head\")[0].appendChild(s);\n",
       "      });\n",
       "    }\n",
       "\n",
       "    function showError(err) {\n",
       "      outputDiv.innerHTML = `<div class=\"error\" style=\"color:red;\">${err}</div>`;\n",
       "      throw err;\n",
       "    }\n",
       "\n",
       "    function displayChart(vegaEmbed) {\n",
       "      vegaEmbed(outputDiv, spec, embedOpt)\n",
       "        .catch(err => showError(`Javascript Error: ${err.message}<br>This usually means there's a typo in your chart specification. See the javascript console for the full traceback.`));\n",
       "    }\n",
       "\n",
       "    if(typeof define === \"function\" && define.amd) {\n",
       "      requirejs.config({paths});\n",
       "      require([\"vega-embed\"], displayChart, err => showError(`Error loading script: ${err.message}`));\n",
       "    } else if (typeof vegaEmbed === \"function\") {\n",
       "      displayChart(vegaEmbed);\n",
       "    } else {\n",
       "      loadScript(\"vega\")\n",
       "        .then(() => loadScript(\"vega-lite\"))\n",
       "        .then(() => loadScript(\"vega-embed\"))\n",
       "        .catch(showError)\n",
       "        .then(() => displayChart(vegaEmbed));\n",
       "    }\n",
       "  })({\"config\": {\"view\": {\"continuousWidth\": 400, \"continuousHeight\": 300}}, \"data\": {\"name\": \"data-e06f73b25cfeea56c27cd3e6daaf5165\"}, \"mark\": {\"type\": \"bar\", \"size\": 10}, \"encoding\": {\"tooltip\": [{\"type\": \"quantitative\", \"field\": \"year\"}, {\"type\": \"quantitative\", \"field\": \"count\"}], \"x\": {\"type\": \"quantitative\", \"axis\": {\"format\": \"c\"}, \"field\": \"year\"}, \"y\": {\"type\": \"quantitative\", \"field\": \"count\"}}, \"width\": 700, \"$schema\": \"https://vega.github.io/schema/vega-lite/v4.8.1.json\", \"datasets\": {\"data-e06f73b25cfeea56c27cd3e6daaf5165\": [{\"year\": 1886, \"series\": 5741, \"count\": 639}, {\"year\": 1883, \"series\": 5177, \"count\": 567}, {\"year\": 1888, \"series\": 5741, \"count\": 558}, {\"year\": 1884, \"series\": 5177, \"count\": 507}, {\"year\": 1887, \"series\": 5177, \"count\": 507}, {\"year\": 1882, \"series\": 5177, \"count\": 463}, {\"year\": 1874, \"series\": 5177, \"count\": 462}, {\"year\": 1878, \"series\": 5741, \"count\": 434}, {\"year\": 1885, \"series\": 5741, \"count\": 428}, {\"year\": 1889, \"series\": 5741, \"count\": 415}, {\"year\": 1875, \"series\": 5741, \"count\": 408}, {\"year\": 1881, \"series\": 5177, \"count\": 388}, {\"year\": 1880, \"series\": 5741, \"count\": 349}, {\"year\": 1879, \"series\": 5741, \"count\": 348}, {\"year\": 1877, \"series\": 5741, \"count\": 337}, {\"year\": 1890, \"series\": 5741, \"count\": 329}, {\"year\": 1876, \"series\": 5741, \"count\": 324}, {\"year\": 1891, \"series\": 5741, \"count\": 321}, {\"year\": 1901, \"series\": 5741, \"count\": 304}, {\"year\": 1892, \"series\": 5741, \"count\": 280}, {\"year\": 1900, \"series\": 5741, \"count\": 273}, {\"year\": 1873, \"series\": 5741, \"count\": 257}, {\"year\": 1893, \"series\": 5741, \"count\": 256}, {\"year\": 1902, \"series\": 5741, \"count\": 255}, {\"year\": 1899, \"series\": 5741, \"count\": 255}, {\"year\": 1898, \"series\": 5741, \"count\": 249}, {\"year\": 1894, \"series\": 5741, \"count\": 244}, {\"year\": 1895, \"series\": 5741, \"count\": 243}, {\"year\": 1866, \"series\": 5741, \"count\": 242}, {\"year\": 1901, \"series\": 5177, \"count\": 235}, {\"year\": 1865, \"series\": 5741, \"count\": 233}, {\"year\": 1872, \"series\": 5741, \"count\": 221}, {\"year\": 1903, \"series\": 5741, \"count\": 216}, {\"year\": 1878, \"series\": 5177, \"count\": 208}, {\"year\": 1903, \"series\": 5177, \"count\": 202}, {\"year\": 1876, \"series\": 5177, \"count\": 194}, {\"year\": 1875, \"series\": 5177, \"count\": 193}, {\"year\": 1864, \"series\": 5741, \"count\": 192}, {\"year\": 1902, \"series\": 5177, \"count\": 191}, {\"year\": 1896, \"series\": 5741, \"count\": 190}, {\"year\": 1897, \"series\": 5741, \"count\": 182}, {\"year\": 1888, \"series\": 5177, \"count\": 172}, {\"year\": 1899, \"series\": 5177, \"count\": 171}, {\"year\": 1870, \"series\": 5741, \"count\": 169}, {\"year\": 1877, \"series\": 5177, \"count\": 167}, {\"year\": 1869, \"series\": 5741, \"count\": 158}, {\"year\": 1895, \"series\": 5177, \"count\": 158}, {\"year\": 1898, \"series\": 5177, \"count\": 149}, {\"year\": 1879, \"series\": 5177, \"count\": 145}, {\"year\": 1871, \"series\": 5741, \"count\": 143}, {\"year\": 1896, \"series\": 5177, \"count\": 142}, {\"year\": 1900, \"series\": 5177, \"count\": 141}, {\"year\": 1885, \"series\": 5177, \"count\": 139}, {\"year\": 1873, \"series\": 5177, \"count\": 139}, {\"year\": 1868, \"series\": 5741, \"count\": 139}, {\"year\": 1886, \"series\": 5177, \"count\": 138}, {\"year\": 1880, \"series\": 5177, \"count\": 137}, {\"year\": 1897, \"series\": 5177, \"count\": 133}, {\"year\": 1867, \"series\": 5741, \"count\": 127}, {\"year\": 1862, \"series\": 5741, \"count\": 124}, {\"year\": 1894, \"series\": 5177, \"count\": 122}, {\"year\": 1864, \"series\": 5177, \"count\": 112}, {\"year\": 1865, \"series\": 5177, \"count\": 111}, {\"year\": 1889, \"series\": 5177, \"count\": 111}, {\"year\": 1890, \"series\": 5177, \"count\": 105}, {\"year\": 1872, \"series\": 5177, \"count\": 101}, {\"year\": 1866, \"series\": 5177, \"count\": 99}, {\"year\": 1891, \"series\": 5177, \"count\": 98}, {\"year\": 1863, \"series\": 5741, \"count\": 93}, {\"year\": 1892, \"series\": 5177, \"count\": 92}, {\"year\": 1868, \"series\": 5177, \"count\": 82}, {\"year\": 1893, \"series\": 5177, \"count\": 78}, {\"year\": 1861, \"series\": 5177, \"count\": 76}, {\"year\": 1869, \"series\": 5177, \"count\": 76}, {\"year\": 1870, \"series\": 5177, \"count\": 74}, {\"year\": 1860, \"series\": 5741, \"count\": 69}, {\"year\": 1862, \"series\": 5177, \"count\": 66}, {\"year\": 1861, \"series\": 5741, \"count\": 63}, {\"year\": 1871, \"series\": 5177, \"count\": 60}, {\"year\": 1863, \"series\": 5177, \"count\": 57}, {\"year\": 1867, \"series\": 5177, \"count\": 47}, {\"year\": 1860, \"series\": 5177, \"count\": 36}, {\"year\": 1884, \"series\": 5741, \"count\": 10}, {\"year\": 1874, \"series\": 5741, \"count\": 7}, {\"year\": 1859, \"series\": 5741, \"count\": 4}, {\"year\": 1859, \"series\": 5177, \"count\": 3}, {\"year\": 1858, \"series\": 5177, \"count\": 3}, {\"year\": 1858, \"series\": 5741, \"count\": 2}, {\"year\": 1855, \"series\": 5741, \"count\": 1}]}}, {\"mode\": \"vega-lite\"});\n",
       "</script>"
      ],
      "text/plain": [
       "alt.Chart(...)"
      ]
     },
     "execution_count": 66,
     "metadata": {},
     "output_type": "execute_result"
    }
   ],
   "source": [
    "alt.Chart(oath_year_counts.loc[(oath_year_counts['year'] >= 1851) & (oath_year_counts['year'] <= 1905)]).mark_bar(size=10).encode(\n",
    "    x=alt.X('year:Q', axis=alt.Axis(format='c')),\n",
    "    y='count:Q',\n",
    "    tooltip=['year', 'count']\n",
    ").properties(width=700)"
   ]
  }
 ],
 "metadata": {
  "kernelspec": {
   "display_name": "Python 3",
   "language": "python",
   "name": "python3"
  },
  "language_info": {
   "codemirror_mode": {
    "name": "ipython",
    "version": 3
   },
   "file_extension": ".py",
   "mimetype": "text/x-python",
   "name": "python",
   "nbconvert_exporter": "python",
   "pygments_lexer": "ipython3",
   "version": "3.8.5"
  }
 },
 "nbformat": 4,
 "nbformat_minor": 5
}
