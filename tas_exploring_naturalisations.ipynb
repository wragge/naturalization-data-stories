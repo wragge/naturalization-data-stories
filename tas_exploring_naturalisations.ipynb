{
 "cells": [
  {
   "cell_type": "markdown",
   "id": "41ca0ce2-ec8e-477d-8758-ea2eea8e4e8c",
   "metadata": {},
   "source": [
    "# Exploring Tasmanian Naturalisations (1835-1904)\n",
    "\n",
    "Datasets derived from Libraries Tasmania's Names Index are [available for download](https://data.gov.au/search?organisation=Libraries%20Tasmania) through data.gov.au. In this notebook well explore the [Tasmanian Naturalisations (1835-1904)](https://data.gov.au/dataset/ds-dga-b19224c6-3b78-4d03-8a9d-c97d7b8db541/details?q=) dataset."
   ]
  },
  {
   "cell_type": "code",
   "execution_count": 1,
   "id": "7a689855-8769-4e3e-9848-e512bc473956",
   "metadata": {},
   "outputs": [],
   "source": [
    "import pandas as pd\n",
    "import altair as alt"
   ]
  },
  {
   "cell_type": "code",
   "execution_count": 3,
   "id": "5e583429-6f9b-4fcc-a7bc-01ba5029522d",
   "metadata": {},
   "outputs": [
    {
     "data": {
      "text/html": [
       "<div>\n",
       "<style scoped>\n",
       "    .dataframe tbody tr th:only-of-type {\n",
       "        vertical-align: middle;\n",
       "    }\n",
       "\n",
       "    .dataframe tbody tr th {\n",
       "        vertical-align: top;\n",
       "    }\n",
       "\n",
       "    .dataframe thead th {\n",
       "        text-align: right;\n",
       "    }\n",
       "</style>\n",
       "<table border=\"1\" class=\"dataframe\">\n",
       "  <thead>\n",
       "    <tr style=\"text-align: right;\">\n",
       "      <th></th>\n",
       "      <th>DIGITAL_OBJECT - URL_TEXT</th>\n",
       "      <th>DIGITAL_OBJECT - URL</th>\n",
       "      <th>RECORD_URL</th>\n",
       "      <th>YEAR_DISPLAY</th>\n",
       "      <th>NAME</th>\n",
       "      <th>YEAR</th>\n",
       "    </tr>\n",
       "  </thead>\n",
       "  <tbody>\n",
       "    <tr>\n",
       "      <th>0</th>\n",
       "      <td>CSD22/1/67/88 p1-7</td>\n",
       "      <td>https://stors.tas.gov.au/CSD22-1-67-88</td>\n",
       "      <td>https://stors.tas.gov.au/NI/446765</td>\n",
       "      <td>1903.0</td>\n",
       "      <td>Abdallah, Calill</td>\n",
       "      <td>1903.0</td>\n",
       "    </tr>\n",
       "    <tr>\n",
       "      <th>1</th>\n",
       "      <td>CSD13/1/93/2280</td>\n",
       "      <td>https://stors.tas.gov.au/CSD13-1-93-2280</td>\n",
       "      <td>https://stors.tas.gov.au/NI/446766</td>\n",
       "      <td>1887.0</td>\n",
       "      <td>Ah Am</td>\n",
       "      <td>1887.0</td>\n",
       "    </tr>\n",
       "    <tr>\n",
       "      <th>2</th>\n",
       "      <td>CSD16/1/51/1678</td>\n",
       "      <td>https://stors.tas.gov.au/CSD16-1-51-1678</td>\n",
       "      <td>https://stors.tas.gov.au/NI/446767</td>\n",
       "      <td>1892.0</td>\n",
       "      <td>Ah Boo</td>\n",
       "      <td>1892.0</td>\n",
       "    </tr>\n",
       "    <tr>\n",
       "      <th>3</th>\n",
       "      <td>CSD22/1/55/88</td>\n",
       "      <td>https://stors.tas.gov.au/CSD22-1-55-88</td>\n",
       "      <td>https://stors.tas.gov.au/NI/446768</td>\n",
       "      <td>1902.0</td>\n",
       "      <td>Ah Boon</td>\n",
       "      <td>1902.0</td>\n",
       "    </tr>\n",
       "    <tr>\n",
       "      <th>4</th>\n",
       "      <td>CSD16/1/23/247</td>\n",
       "      <td>https://stors.tas.gov.au/CSD16-1-23-247</td>\n",
       "      <td>https://stors.tas.gov.au/NI/446769</td>\n",
       "      <td>1887.0</td>\n",
       "      <td>Ah Catt, James</td>\n",
       "      <td>1887.0</td>\n",
       "    </tr>\n",
       "  </tbody>\n",
       "</table>\n",
       "</div>"
      ],
      "text/plain": [
       "  DIGITAL_OBJECT - URL_TEXT                      DIGITAL_OBJECT - URL  \\\n",
       "0        CSD22/1/67/88 p1-7    https://stors.tas.gov.au/CSD22-1-67-88   \n",
       "1           CSD13/1/93/2280  https://stors.tas.gov.au/CSD13-1-93-2280   \n",
       "2           CSD16/1/51/1678  https://stors.tas.gov.au/CSD16-1-51-1678   \n",
       "3             CSD22/1/55/88    https://stors.tas.gov.au/CSD22-1-55-88   \n",
       "4            CSD16/1/23/247   https://stors.tas.gov.au/CSD16-1-23-247   \n",
       "\n",
       "                           RECORD_URL  YEAR_DISPLAY              NAME    YEAR  \n",
       "0  https://stors.tas.gov.au/NI/446765        1903.0  Abdallah, Calill  1903.0  \n",
       "1  https://stors.tas.gov.au/NI/446766        1887.0             Ah Am  1887.0  \n",
       "2  https://stors.tas.gov.au/NI/446767        1892.0            Ah Boo  1892.0  \n",
       "3  https://stors.tas.gov.au/NI/446768        1902.0           Ah Boon  1902.0  \n",
       "4  https://stors.tas.gov.au/NI/446769        1887.0    Ah Catt, James  1887.0  "
      ]
     },
     "execution_count": 3,
     "metadata": {},
     "output_type": "execute_result"
    }
   ],
   "source": [
    "df = pd.read_csv('https://data.gov.au/dataset/b19224c6-3b78-4d03-8a9d-c97d7b8db541/resource/6e4a4678-9845-42da-a7e1-99f00aee2028/download/naturalisations.csv')\n",
    "df.head()"
   ]
  },
  {
   "cell_type": "code",
   "execution_count": 4,
   "id": "4dfc2891-e5ac-4b51-b951-fcb4bcf77d5e",
   "metadata": {},
   "outputs": [
    {
     "data": {
      "text/html": [
       "<div>\n",
       "<style scoped>\n",
       "    .dataframe tbody tr th:only-of-type {\n",
       "        vertical-align: middle;\n",
       "    }\n",
       "\n",
       "    .dataframe tbody tr th {\n",
       "        vertical-align: top;\n",
       "    }\n",
       "\n",
       "    .dataframe thead th {\n",
       "        text-align: right;\n",
       "    }\n",
       "</style>\n",
       "<table border=\"1\" class=\"dataframe\">\n",
       "  <thead>\n",
       "    <tr style=\"text-align: right;\">\n",
       "      <th></th>\n",
       "      <th>year</th>\n",
       "      <th>count</th>\n",
       "    </tr>\n",
       "  </thead>\n",
       "  <tbody>\n",
       "    <tr>\n",
       "      <th>0</th>\n",
       "      <td>1903.0</td>\n",
       "      <td>172</td>\n",
       "    </tr>\n",
       "    <tr>\n",
       "      <th>1</th>\n",
       "      <td>1892.0</td>\n",
       "      <td>111</td>\n",
       "    </tr>\n",
       "    <tr>\n",
       "      <th>2</th>\n",
       "      <td>1884.0</td>\n",
       "      <td>102</td>\n",
       "    </tr>\n",
       "    <tr>\n",
       "      <th>3</th>\n",
       "      <td>1901.0</td>\n",
       "      <td>79</td>\n",
       "    </tr>\n",
       "    <tr>\n",
       "      <th>4</th>\n",
       "      <td>1883.0</td>\n",
       "      <td>74</td>\n",
       "    </tr>\n",
       "  </tbody>\n",
       "</table>\n",
       "</div>"
      ],
      "text/plain": [
       "     year  count\n",
       "0  1903.0    172\n",
       "1  1892.0    111\n",
       "2  1884.0    102\n",
       "3  1901.0     79\n",
       "4  1883.0     74"
      ]
     },
     "execution_count": 4,
     "metadata": {},
     "output_type": "execute_result"
    }
   ],
   "source": [
    "year_counts = df['YEAR_DISPLAY'].value_counts().to_frame().reset_index()\n",
    "year_counts.columns = ['year', 'count']\n",
    "year_counts.head()"
   ]
  },
  {
   "cell_type": "code",
   "execution_count": 6,
   "id": "20c27f40-6f29-449b-bff0-b730530edf24",
   "metadata": {},
   "outputs": [
    {
     "data": {
      "text/html": [
       "\n",
       "<div id=\"altair-viz-039bff377aab4827873e23ee07158553\"></div>\n",
       "<script type=\"text/javascript\">\n",
       "  (function(spec, embedOpt){\n",
       "    let outputDiv = document.currentScript.previousElementSibling;\n",
       "    if (outputDiv.id !== \"altair-viz-039bff377aab4827873e23ee07158553\") {\n",
       "      outputDiv = document.getElementById(\"altair-viz-039bff377aab4827873e23ee07158553\");\n",
       "    }\n",
       "    const paths = {\n",
       "      \"vega\": \"https://cdn.jsdelivr.net/npm//vega@5?noext\",\n",
       "      \"vega-lib\": \"https://cdn.jsdelivr.net/npm//vega-lib?noext\",\n",
       "      \"vega-lite\": \"https://cdn.jsdelivr.net/npm//vega-lite@4.8.1?noext\",\n",
       "      \"vega-embed\": \"https://cdn.jsdelivr.net/npm//vega-embed@6?noext\",\n",
       "    };\n",
       "\n",
       "    function loadScript(lib) {\n",
       "      return new Promise(function(resolve, reject) {\n",
       "        var s = document.createElement('script');\n",
       "        s.src = paths[lib];\n",
       "        s.async = true;\n",
       "        s.onload = () => resolve(paths[lib]);\n",
       "        s.onerror = () => reject(`Error loading script: ${paths[lib]}`);\n",
       "        document.getElementsByTagName(\"head\")[0].appendChild(s);\n",
       "      });\n",
       "    }\n",
       "\n",
       "    function showError(err) {\n",
       "      outputDiv.innerHTML = `<div class=\"error\" style=\"color:red;\">${err}</div>`;\n",
       "      throw err;\n",
       "    }\n",
       "\n",
       "    function displayChart(vegaEmbed) {\n",
       "      vegaEmbed(outputDiv, spec, embedOpt)\n",
       "        .catch(err => showError(`Javascript Error: ${err.message}<br>This usually means there's a typo in your chart specification. See the javascript console for the full traceback.`));\n",
       "    }\n",
       "\n",
       "    if(typeof define === \"function\" && define.amd) {\n",
       "      requirejs.config({paths});\n",
       "      require([\"vega-embed\"], displayChart, err => showError(`Error loading script: ${err.message}`));\n",
       "    } else if (typeof vegaEmbed === \"function\") {\n",
       "      displayChart(vegaEmbed);\n",
       "    } else {\n",
       "      loadScript(\"vega\")\n",
       "        .then(() => loadScript(\"vega-lite\"))\n",
       "        .then(() => loadScript(\"vega-embed\"))\n",
       "        .catch(showError)\n",
       "        .then(() => displayChart(vegaEmbed));\n",
       "    }\n",
       "  })({\"config\": {\"view\": {\"continuousWidth\": 400, \"continuousHeight\": 300}}, \"data\": {\"name\": \"data-1dc1126b35d6300c2e54608115c91117\"}, \"mark\": {\"type\": \"bar\", \"size\": 8}, \"encoding\": {\"tooltip\": [{\"type\": \"quantitative\", \"field\": \"year\"}, {\"type\": \"quantitative\", \"field\": \"count\"}], \"x\": {\"type\": \"quantitative\", \"axis\": {\"format\": \"c\"}, \"field\": \"year\"}, \"y\": {\"type\": \"quantitative\", \"field\": \"count\"}}, \"width\": 700, \"$schema\": \"https://vega.github.io/schema/vega-lite/v4.8.1.json\", \"datasets\": {\"data-1dc1126b35d6300c2e54608115c91117\": [{\"year\": 1903.0, \"count\": 172}, {\"year\": 1892.0, \"count\": 111}, {\"year\": 1884.0, \"count\": 102}, {\"year\": 1901.0, \"count\": 79}, {\"year\": 1883.0, \"count\": 74}, {\"year\": 1898.0, \"count\": 59}, {\"year\": 1886.0, \"count\": 57}, {\"year\": 1893.0, \"count\": 49}, {\"year\": 1885.0, \"count\": 39}, {\"year\": 1897.0, \"count\": 38}, {\"year\": 1902.0, \"count\": 34}, {\"year\": 1891.0, \"count\": 33}, {\"year\": 1888.0, \"count\": 30}, {\"year\": 1894.0, \"count\": 30}, {\"year\": 1900.0, \"count\": 27}, {\"year\": 1887.0, \"count\": 27}, {\"year\": 1882.0, \"count\": 19}, {\"year\": 1889.0, \"count\": 17}, {\"year\": 1904.0, \"count\": 16}, {\"year\": 1878.0, \"count\": 15}, {\"year\": 1899.0, \"count\": 14}, {\"year\": 1895.0, \"count\": 12}, {\"year\": 1865.0, \"count\": 12}, {\"year\": 1862.0, \"count\": 11}, {\"year\": 1877.0, \"count\": 11}, {\"year\": 1880.0, \"count\": 11}, {\"year\": 1873.0, \"count\": 9}, {\"year\": 1871.0, \"count\": 9}, {\"year\": 1890.0, \"count\": 9}, {\"year\": 1879.0, \"count\": 9}, {\"year\": 1896.0, \"count\": 8}, {\"year\": 1876.0, \"count\": 6}, {\"year\": 1872.0, \"count\": 6}, {\"year\": 1870.0, \"count\": 4}, {\"year\": 1874.0, \"count\": 3}, {\"year\": 1835.0, \"count\": 3}, {\"year\": 1866.0, \"count\": 2}, {\"year\": 1839.0, \"count\": 2}, {\"year\": 1867.0, \"count\": 2}, {\"year\": 1861.0, \"count\": 2}, {\"year\": 1863.0, \"count\": 2}, {\"year\": 1881.0, \"count\": 2}, {\"year\": 1848.0, \"count\": 1}, {\"year\": 1840.0, \"count\": 1}, {\"year\": 1860.0, \"count\": 1}, {\"year\": 1858.0, \"count\": 1}, {\"year\": 1869.0, \"count\": 1}, {\"year\": 1855.0, \"count\": 1}, {\"year\": 1875.0, \"count\": 1}, {\"year\": 1853.0, \"count\": 1}, {\"year\": 1836.0, \"count\": 1}, {\"year\": 1857.0, \"count\": 1}, {\"year\": 1841.0, \"count\": 1}, {\"year\": 1844.0, \"count\": 1}]}}, {\"mode\": \"vega-lite\"});\n",
       "</script>"
      ],
      "text/plain": [
       "alt.Chart(...)"
      ]
     },
     "execution_count": 6,
     "metadata": {},
     "output_type": "execute_result"
    }
   ],
   "source": [
    "alt.Chart(year_counts).mark_bar(size=8).encode(\n",
    "    x=alt.X('year:Q', axis=alt.Axis(format='c')),\n",
    "    y='count:Q',\n",
    "    tooltip=['year', 'count']\n",
    ").properties(width=700)"
   ]
  }
 ],
 "metadata": {
  "kernelspec": {
   "display_name": "Python 3",
   "language": "python",
   "name": "python3"
  },
  "language_info": {
   "codemirror_mode": {
    "name": "ipython",
    "version": 3
   },
   "file_extension": ".py",
   "mimetype": "text/x-python",
   "name": "python",
   "nbconvert_exporter": "python",
   "pygments_lexer": "ipython3",
   "version": "3.8.5"
  }
 },
 "nbformat": 4,
 "nbformat_minor": 5
}
