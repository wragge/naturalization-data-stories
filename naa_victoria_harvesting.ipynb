{
 "cells": [
  {
   "cell_type": "markdown",
   "metadata": {},
   "source": [
    "# Harvest Victorian naturalization records in the National Archives of Australia"
   ]
  },
  {
   "cell_type": "markdown",
   "metadata": {},
   "source": [
    "This notebook was used to harvest item data from the following series in April 2019:\n",
    "\n",
    "* [A7796](http://recordsearch.naa.gov.au/scripts/AutoSearch.asp?Number=A7796) – Nominal index for pre-1904 Victorian naturalizations\n",
    "* [A3977](http://recordsearch.naa.gov.au/scripts/AutoSearch.asp?Number=A3977) – 'Naturalisation Index, Victoria - Register of Patents with index\n",
    "* [A726](http://recordsearch.naa.gov.au/scripts/AutoSearch.asp?Number=A726) – 'Registers of Certificates of Naturalization' [Volumes of enrolled certificates with index]\n",
    "* [A728](http://recordsearch.naa.gov.au/scripts/AutoSearch.asp?Number=A728) – [1] 'Naturalization Index, Victoria' [Register of Patents with Index]; [2] 'Naturalization Indexes, Victoria' [Registers and indexes to enrolled letters of naturalization]\n",
    "* [A727](http://recordsearch.naa.gov.au/scripts/AutoSearch.asp?Number=A727) – Volumes of enrolled letters of naturalization\n",
    "* [A712](http://recordsearch.naa.gov.au/scripts/AutoSearch.asp?Number=A712) – Letters received, annual single number series with letter prefix or infix \n",
    "* [A725](http://recordsearch.naa.gov.au/scripts/AutoSearch.asp?Number=A725) – Register of Patents and (from 19 Feb. 1851) Register of Certificates of naturalization volume of enrolled certificates with index\n",
    "* [A801](http://recordsearch.naa.gov.au/scripts/AutoSearch.asp?Number=A801) – Cancelled certificates of naturalization, Victoria\n",
    "\n",
    "This code is now out-of-date due to the deprecation of some of the packages used. If you want to  undertake your own harvest of these or other series in the NAA, go the the [RecordSearch section of the GLAM Workbench](https://glam-workbench.net/recordsearch/) for current versions of the harvesting code.\n",
    "\n",
    "The harvested data is available as individual `tinydb` JSON files in the `data/victoria` directory, or as a [single combined CSV file](naa_victoria_combined.csv).\n",
    "\n",
    "See [this notebook](naa_victoria.ipynb) for an overview of the harvested data."
   ]
  },
  {
   "cell_type": "code",
   "execution_count": 5,
   "metadata": {},
   "outputs": [],
   "source": [
    "import time\n",
    "import os\n",
    "import math\n",
    "import string\n",
    "import requests\n",
    "import pandas as pd\n",
    "from requests import ConnectionError\n",
    "from recordsearch_tools.utilities import retry\n",
    "from recordsearch_tools.client import RSSearchClient, RSSeriesClient\n",
    "from tinydb import TinyDB, Query\n",
    "try:\n",
    "    from io import BytesIO\n",
    "except ImportError:\n",
    "    from StringIO import StringIO\n",
    "\n",
    "os.makedirs('data/victoria', exist_ok=True)"
   ]
  },
  {
   "cell_type": "code",
   "execution_count": 6,
   "metadata": {},
   "outputs": [],
   "source": [
    "series = [\n",
    "    'A7796',\n",
    "    'A3977',\n",
    "    'A726',\n",
    "    'A728',\n",
    "    'A727',\n",
    "    'A712',\n",
    "    'A725',\n",
    "    'A801'  \n",
    "]\n",
    "\n",
    "output_dir = 'data/victoria'"
   ]
  },
  {
   "cell_type": "code",
   "execution_count": 65,
   "metadata": {},
   "outputs": [],
   "source": [
    "# %load series_harvester.py\n",
    "class SeriesHarvester():\n",
    "    def __init__(self, series, control=None, output_dir='data'):\n",
    "        self.series = series\n",
    "        self.control = control\n",
    "        self.output_dir = output_dir\n",
    "        self.total_pages = None\n",
    "        self.pages_complete = 0\n",
    "        self.client = RSSearchClient()\n",
    "        self.prepare_harvest()\n",
    "        self.db = TinyDB(os.path.join(output_dir, 'db-{}.json'.format(self.series.replace('/', '-'))))\n",
    "        self.items = self.db.table('items')\n",
    "        self.images = self.db.table('images')\n",
    "\n",
    "    def get_total(self):\n",
    "        return self.client.total_results\n",
    "\n",
    "    def prepare_harvest(self):\n",
    "        if self.control:\n",
    "            self.client.search(series=self.series, control=self.control)\n",
    "        else:\n",
    "            self.client.search(series=self.series)\n",
    "        total_results = self.client.total_results\n",
    "        print('{} items'.format(total_results))\n",
    "        self.total_pages = math.floor(int(total_results) / self.client.results_per_page) + 1\n",
    "        print(self.total_pages)\n",
    "\n",
    "    @retry(ConnectionError, tries=20, delay=10, backoff=1)\n",
    "    def start_harvest(self, page=None):\n",
    "        Record = Query()\n",
    "        if not page:\n",
    "            page = self.pages_complete + 1\n",
    "        while self.pages_complete < self.total_pages:\n",
    "            if self.control:\n",
    "                response = self.client.search(series=self.series, page=page, control=self.control, sort='9')\n",
    "            else:\n",
    "                response = self.client.search(series=self.series, page=page, sort='9')\n",
    "            for result in response['results']:\n",
    "                self.items.upsert(result, Record.identifier == result['identifier'])\n",
    "            self.pages_complete += 1\n",
    "            page += 1\n",
    "            print('{} pages complete'.format(self.pages_complete))\n",
    "            time.sleep(1)\n",
    "            \n",
    "def harvest_series(series, output_dir):\n",
    "    h = SeriesHarvester(series=series, output_dir=output_dir)\n",
    "    h.start_harvest()"
   ]
  },
  {
   "cell_type": "code",
   "execution_count": null,
   "metadata": {
    "scrolled": true
   },
   "outputs": [],
   "source": [
    "for s in series:\n",
    "    harvest_series(s, output_dir)"
   ]
  }
 ],
 "metadata": {
  "kernelspec": {
   "display_name": "Python 3",
   "language": "python",
   "name": "python3"
  },
  "language_info": {
   "codemirror_mode": {
    "name": "ipython",
    "version": 3
   },
   "file_extension": ".py",
   "mimetype": "text/x-python",
   "name": "python",
   "nbconvert_exporter": "python",
   "pygments_lexer": "ipython3",
   "version": "3.8.5"
  }
 },
 "nbformat": 4,
 "nbformat_minor": 4
}
